{
 "metadata": {
  "language_info": {
   "codemirror_mode": {
    "name": "ipython",
    "version": 3
   },
   "file_extension": ".py",
   "mimetype": "text/x-python",
   "name": "python",
   "nbconvert_exporter": "python",
   "pygments_lexer": "ipython3",
   "version": "3.8.8-final"
  },
  "orig_nbformat": 2,
  "kernelspec": {
   "name": "python3",
   "display_name": "Python 3.8.8 64-bit ('quantum_metric_test': pipenv)",
   "metadata": {
    "interpreter": {
     "hash": "f7cb70d9d984bf914d7c2f2bcc10c08a4916bd58bbe37bf63033f57a32091153"
    }
   }
  }
 },
 "nbformat": 4,
 "nbformat_minor": 2,
 "cells": [
  {
   "cell_type": "code",
   "execution_count": 55,
   "metadata": {},
   "outputs": [],
   "source": [
    "import numpy as np\n",
    "import pandas as pd\n",
    "import dask.dataframe as ddf\n",
    "import seaborn as sbn\n",
    "import matplotlib.pyplot as plt\n",
    "from sklearn.preprocessing import PolynomialFeatures\n",
    "from sklearn.decomposition import PCA, FactorAnalysis\n",
    "from sklearn.model_selection import train_test_split\n",
    "from sklearn.cluster import KMeans, MiniBatchKMeans, DBSCAN\n",
    "from sklearn.linear_model import LinearRegression, BayesianRidge\n",
    "import helper_fns\n",
    "from tensorflow.keras.models import Sequential\n",
    "from tensorflow.keras.layers import Dense\n",
    "from tensorflow.keras.optimizers import SGD\n",
    "from tensorflow.keras.callbacks import EarlyStopping\n",
    "\n",
    "# import plotly.express as px\n",
    "%matplotlib inline"
   ]
  },
  {
   "source": [
    "# Import data"
   ],
   "cell_type": "markdown",
   "metadata": {}
  },
  {
   "cell_type": "code",
   "execution_count": 2,
   "metadata": {},
   "outputs": [
    {
     "output_type": "execute_result",
     "data": {
      "text/plain": [
       "   start_hour  loyal  conv_rate   loyalty  pg_count  hit_evnt_cnt  \\\n",
       "0          23      0  -0.262246 -0.240792 -1.328991     -0.673618   \n",
       "1          23      0  -0.262246 -0.240792 -1.328991     -0.949226   \n",
       "2          23      0  -0.262246 -0.240792 -1.328991     -1.159924   \n",
       "3          23      0  -0.262246 -0.240792 -1.328991     -1.159924   \n",
       "4          23      0  -0.262246 -0.240792 -1.328991     -1.276792   \n",
       "\n",
       "   hit_evnt_clicks  hit_evnt_forms  hit_evnt_ajax  ('BR',)  ...  ('social',)  \\\n",
       "0         -1.28356        -1.31504      -1.315113      0.0  ...          0.0   \n",
       "1         -1.28356        -1.31504      -1.099848      0.0  ...          1.0   \n",
       "2         -1.28356        -1.31504      -1.315113      0.0  ...          0.0   \n",
       "3         -1.28356        -1.31504      -1.559321      0.0  ...          1.0   \n",
       "4         -1.28356        -1.31504      -1.315113      0.0  ...          0.0   \n",
       "\n",
       "   ('ask.com',)  ('baidu.com',)  ('bing.com',)  ('duckduckgo.com',)  \\\n",
       "0           0.0             0.0            0.0                  0.0   \n",
       "1           0.0             0.0            0.0                  0.0   \n",
       "2           0.0             0.0            0.0                  0.0   \n",
       "3           0.0             0.0            0.0                  0.0   \n",
       "4           0.0             1.0            0.0                  0.0   \n",
       "\n",
       "   ('facebook.com',)  ('google.com',)  ('instagram.com',)  ('pinterest.com',)  \\\n",
       "0                0.0              0.0                 0.0                 0.0   \n",
       "1                1.0              0.0                 0.0                 0.0   \n",
       "2                0.0              1.0                 0.0                 0.0   \n",
       "3                0.0              0.0                 0.0                 1.0   \n",
       "4                0.0              0.0                 0.0                 0.0   \n",
       "\n",
       "   ('yahoo.com',)  \n",
       "0             1.0  \n",
       "1             0.0  \n",
       "2             0.0  \n",
       "3             0.0  \n",
       "4             0.0  \n",
       "\n",
       "[5 rows x 73 columns]"
      ],
      "text/html": "<div>\n<style scoped>\n    .dataframe tbody tr th:only-of-type {\n        vertical-align: middle;\n    }\n\n    .dataframe tbody tr th {\n        vertical-align: top;\n    }\n\n    .dataframe thead th {\n        text-align: right;\n    }\n</style>\n<table border=\"1\" class=\"dataframe\">\n  <thead>\n    <tr style=\"text-align: right;\">\n      <th></th>\n      <th>start_hour</th>\n      <th>loyal</th>\n      <th>conv_rate</th>\n      <th>loyalty</th>\n      <th>pg_count</th>\n      <th>hit_evnt_cnt</th>\n      <th>hit_evnt_clicks</th>\n      <th>hit_evnt_forms</th>\n      <th>hit_evnt_ajax</th>\n      <th>('BR',)</th>\n      <th>...</th>\n      <th>('social',)</th>\n      <th>('ask.com',)</th>\n      <th>('baidu.com',)</th>\n      <th>('bing.com',)</th>\n      <th>('duckduckgo.com',)</th>\n      <th>('facebook.com',)</th>\n      <th>('google.com',)</th>\n      <th>('instagram.com',)</th>\n      <th>('pinterest.com',)</th>\n      <th>('yahoo.com',)</th>\n    </tr>\n  </thead>\n  <tbody>\n    <tr>\n      <th>0</th>\n      <td>23</td>\n      <td>0</td>\n      <td>-0.262246</td>\n      <td>-0.240792</td>\n      <td>-1.328991</td>\n      <td>-0.673618</td>\n      <td>-1.28356</td>\n      <td>-1.31504</td>\n      <td>-1.315113</td>\n      <td>0.0</td>\n      <td>...</td>\n      <td>0.0</td>\n      <td>0.0</td>\n      <td>0.0</td>\n      <td>0.0</td>\n      <td>0.0</td>\n      <td>0.0</td>\n      <td>0.0</td>\n      <td>0.0</td>\n      <td>0.0</td>\n      <td>1.0</td>\n    </tr>\n    <tr>\n      <th>1</th>\n      <td>23</td>\n      <td>0</td>\n      <td>-0.262246</td>\n      <td>-0.240792</td>\n      <td>-1.328991</td>\n      <td>-0.949226</td>\n      <td>-1.28356</td>\n      <td>-1.31504</td>\n      <td>-1.099848</td>\n      <td>0.0</td>\n      <td>...</td>\n      <td>1.0</td>\n      <td>0.0</td>\n      <td>0.0</td>\n      <td>0.0</td>\n      <td>0.0</td>\n      <td>1.0</td>\n      <td>0.0</td>\n      <td>0.0</td>\n      <td>0.0</td>\n      <td>0.0</td>\n    </tr>\n    <tr>\n      <th>2</th>\n      <td>23</td>\n      <td>0</td>\n      <td>-0.262246</td>\n      <td>-0.240792</td>\n      <td>-1.328991</td>\n      <td>-1.159924</td>\n      <td>-1.28356</td>\n      <td>-1.31504</td>\n      <td>-1.315113</td>\n      <td>0.0</td>\n      <td>...</td>\n      <td>0.0</td>\n      <td>0.0</td>\n      <td>0.0</td>\n      <td>0.0</td>\n      <td>0.0</td>\n      <td>0.0</td>\n      <td>1.0</td>\n      <td>0.0</td>\n      <td>0.0</td>\n      <td>0.0</td>\n    </tr>\n    <tr>\n      <th>3</th>\n      <td>23</td>\n      <td>0</td>\n      <td>-0.262246</td>\n      <td>-0.240792</td>\n      <td>-1.328991</td>\n      <td>-1.159924</td>\n      <td>-1.28356</td>\n      <td>-1.31504</td>\n      <td>-1.559321</td>\n      <td>0.0</td>\n      <td>...</td>\n      <td>1.0</td>\n      <td>0.0</td>\n      <td>0.0</td>\n      <td>0.0</td>\n      <td>0.0</td>\n      <td>0.0</td>\n      <td>0.0</td>\n      <td>0.0</td>\n      <td>1.0</td>\n      <td>0.0</td>\n    </tr>\n    <tr>\n      <th>4</th>\n      <td>23</td>\n      <td>0</td>\n      <td>-0.262246</td>\n      <td>-0.240792</td>\n      <td>-1.328991</td>\n      <td>-1.276792</td>\n      <td>-1.28356</td>\n      <td>-1.31504</td>\n      <td>-1.315113</td>\n      <td>0.0</td>\n      <td>...</td>\n      <td>0.0</td>\n      <td>0.0</td>\n      <td>1.0</td>\n      <td>0.0</td>\n      <td>0.0</td>\n      <td>0.0</td>\n      <td>0.0</td>\n      <td>0.0</td>\n      <td>0.0</td>\n      <td>0.0</td>\n    </tr>\n  </tbody>\n</table>\n<p>5 rows × 73 columns</p>\n</div>"
     },
     "metadata": {},
     "execution_count": 2
    }
   ],
   "source": [
    "df = ddf.read_csv('session_data_v2_cleaned.csv')\n",
    "df.head()"
   ]
  },
  {
   "cell_type": "code",
   "execution_count": 3,
   "metadata": {},
   "outputs": [
    {
     "output_type": "execute_result",
     "data": {
      "text/plain": [
       "(1435733, 73)"
      ]
     },
     "metadata": {},
     "execution_count": 3
    }
   ],
   "source": [
    "df.compute().shape"
   ]
  },
  {
   "source": [
    "# Dimensionality Reduction"
   ],
   "cell_type": "markdown",
   "metadata": {}
  },
  {
   "cell_type": "code",
   "execution_count": 33,
   "metadata": {},
   "outputs": [],
   "source": [
    "# data prep\n",
    "X = df.drop(columns=['conv_rate']).compute()\n",
    "X.reset_index(inplace=True, drop=True)\n",
    "y = df[['conv_rate']].compute()\n",
    "y.reset_index(inplace=True, drop=True)\n",
    "X_train, X_test, y_train, y_test = train_test_split(X, y, test_size=0.33, random_state=42)"
   ]
  },
  {
   "source": [
    "## Autoencoder"
   ],
   "cell_type": "markdown",
   "metadata": {}
  },
  {
   "cell_type": "code",
   "execution_count": 36,
   "metadata": {},
   "outputs": [],
   "source": [
    "### Encoder\n",
    "encoder = Sequential()\n",
    "encoder.add(Dense(400,input_shape=[72],activation='relu'))\n",
    "encoder.add(Dense(200,activation=\"relu\"))\n",
    "encoder.add(Dense(100,activation=\"relu\"))\n",
    "encoder.add(Dense(50,activation=\"relu\"))\n",
    "encoder.add(Dense(6,activation=\"relu\"))\n",
    " \n",
    " \n",
    "### Decoder\n",
    "decoder = Sequential()\n",
    "decoder.add(Dense(50,input_shape=[6],activation='relu'))\n",
    "decoder.add(Dense(100,activation='relu'))\n",
    "decoder.add(Dense(200,activation='relu'))\n",
    "decoder.add(Dense(400,activation='relu'))\n",
    "decoder.add(Dense(72, activation=\"relu\"))\n",
    "\n",
    "\n"
   ]
  },
  {
   "cell_type": "code",
   "execution_count": 37,
   "metadata": {},
   "outputs": [
    {
     "output_type": "stream",
     "name": "stdout",
     "text": [
      "Epoch 1/50\n",
      "30061/30061 [==============================] - 36s 1ms/step - loss: 0.1005\n",
      "Epoch 2/50\n",
      "30061/30061 [==============================] - 35s 1ms/step - loss: 0.0692\n",
      "Epoch 3/50\n",
      "30061/30061 [==============================] - 35s 1ms/step - loss: 0.0678\n",
      "Epoch 4/50\n",
      "30061/30061 [==============================] - 36s 1ms/step - loss: 0.0656\n",
      "Epoch 5/50\n",
      "30061/30061 [==============================] - 36s 1ms/step - loss: 0.0583\n",
      "Epoch 6/50\n",
      "30061/30061 [==============================] - 36s 1ms/step - loss: 0.0582\n",
      "Epoch 7/50\n",
      "30061/30061 [==============================] - 36s 1ms/step - loss: 0.0581\n",
      "Epoch 8/50\n",
      "30061/30061 [==============================] - 36s 1ms/step - loss: 0.0582\n",
      "Epoch 9/50\n",
      "30061/30061 [==============================] - 36s 1ms/step - loss: 0.0580\n",
      "Epoch 10/50\n",
      "30061/30061 [==============================] - 36s 1ms/step - loss: 0.0580\n",
      "Epoch 11/50\n",
      "30061/30061 [==============================] - 36s 1ms/step - loss: 0.0580\n",
      "Epoch 12/50\n",
      "30061/30061 [==============================] - 36s 1ms/step - loss: 0.0579\n",
      "Epoch 13/50\n",
      "30061/30061 [==============================] - 36s 1ms/step - loss: 0.0581\n",
      "Epoch 14/50\n",
      "30061/30061 [==============================] - 36s 1ms/step - loss: 0.0579\n",
      "Epoch 15/50\n",
      "30061/30061 [==============================] - 37s 1ms/step - loss: 0.0579\n",
      "Epoch 16/50\n",
      "30061/30061 [==============================] - 36s 1ms/step - loss: 0.0580\n",
      "Epoch 17/50\n",
      "30061/30061 [==============================] - 36s 1ms/step - loss: 0.0579\n"
     ]
    },
    {
     "output_type": "execute_result",
     "data": {
      "text/plain": [
       "<tensorflow.python.keras.callbacks.History at 0x1a9ecb538e0>"
      ]
     },
     "metadata": {},
     "execution_count": 37
    }
   ],
   "source": [
    "### Autoencoder\n",
    "callback = EarlyStopping(monitor='loss', patience=3)\n",
    "\n",
    "autoencoder = Sequential([encoder,decoder])\n",
    "autoencoder.compile(loss=\"mse\")\n",
    "autoencoder.fit(X_train,X_train,epochs=50, use_multiprocessing=True, callbacks=[callback])"
   ]
  },
  {
   "cell_type": "code",
   "execution_count": 38,
   "metadata": {},
   "outputs": [
    {
     "output_type": "execute_result",
     "data": {
      "text/plain": [
       "   conv_rate        X1        X2         X3   X4        X5        X6\n",
       "0  -0.262246  5.317648  4.004731  10.584099  0.0  6.977969  1.327806\n",
       "1  -0.262246  4.539227  2.056666   8.602338  0.0  9.573707  0.000000\n",
       "2  -0.262246  4.450998  7.168342  10.712657  0.0  5.742918  0.288699\n",
       "3  -0.262246  2.827416  2.882666  10.306307  0.0  9.101112  1.314992\n",
       "4  -0.262246  5.165205  4.030619  10.597143  0.0  6.965371  1.306237"
      ],
      "text/html": "<div>\n<style scoped>\n    .dataframe tbody tr th:only-of-type {\n        vertical-align: middle;\n    }\n\n    .dataframe tbody tr th {\n        vertical-align: top;\n    }\n\n    .dataframe thead th {\n        text-align: right;\n    }\n</style>\n<table border=\"1\" class=\"dataframe\">\n  <thead>\n    <tr style=\"text-align: right;\">\n      <th></th>\n      <th>conv_rate</th>\n      <th>X1</th>\n      <th>X2</th>\n      <th>X3</th>\n      <th>X4</th>\n      <th>X5</th>\n      <th>X6</th>\n    </tr>\n  </thead>\n  <tbody>\n    <tr>\n      <th>0</th>\n      <td>-0.262246</td>\n      <td>5.317648</td>\n      <td>4.004731</td>\n      <td>10.584099</td>\n      <td>0.0</td>\n      <td>6.977969</td>\n      <td>1.327806</td>\n    </tr>\n    <tr>\n      <th>1</th>\n      <td>-0.262246</td>\n      <td>4.539227</td>\n      <td>2.056666</td>\n      <td>8.602338</td>\n      <td>0.0</td>\n      <td>9.573707</td>\n      <td>0.000000</td>\n    </tr>\n    <tr>\n      <th>2</th>\n      <td>-0.262246</td>\n      <td>4.450998</td>\n      <td>7.168342</td>\n      <td>10.712657</td>\n      <td>0.0</td>\n      <td>5.742918</td>\n      <td>0.288699</td>\n    </tr>\n    <tr>\n      <th>3</th>\n      <td>-0.262246</td>\n      <td>2.827416</td>\n      <td>2.882666</td>\n      <td>10.306307</td>\n      <td>0.0</td>\n      <td>9.101112</td>\n      <td>1.314992</td>\n    </tr>\n    <tr>\n      <th>4</th>\n      <td>-0.262246</td>\n      <td>5.165205</td>\n      <td>4.030619</td>\n      <td>10.597143</td>\n      <td>0.0</td>\n      <td>6.965371</td>\n      <td>1.306237</td>\n    </tr>\n  </tbody>\n</table>\n</div>"
     },
     "metadata": {},
     "execution_count": 38
    }
   ],
   "source": [
    "# encoding features with autoencoder\n",
    "encoded_matrix = encoder.predict(df.drop(columns=['conv_rate']).compute())\n",
    "encoded_matrix = pd.DataFrame(encoded_matrix, columns=['X1', 'X2', 'X3', 'X4', 'X5', 'X6'])\n",
    "encoded_matrix.reset_index(inplace=True, drop=True)\n",
    "\n",
    "# joining encoded values with conversion value column\n",
    "enc_data_df = df[['conv_rate']].compute()\n",
    "enc_data_df.reset_index(inplace=True, drop=True)\n",
    "\n",
    "encoded_df = enc_data_df.join(encoded_matrix)\n",
    "encoded_df.head()\n"
   ]
  },
  {
   "source": [
    "## Principal Component Analysis (PCA)"
   ],
   "cell_type": "markdown",
   "metadata": {}
  },
  {
   "cell_type": "code",
   "execution_count": 39,
   "metadata": {},
   "outputs": [
    {
     "output_type": "stream",
     "name": "stdout",
     "text": [
      "[0.85335986 0.08492612 0.01830819 0.01234757 0.00765395 0.00331715]\nsum total explained variance: 0.9799128397850125\n[8226.04131315 2595.04820692 1204.89011971  989.49930283  779.05402657\n  512.86998687]\n"
     ]
    },
    {
     "output_type": "execute_result",
     "data": {
      "text/plain": [
       "   conv_rate        pc1       pc2       pc3       pc4       pc5       pc6\n",
       "0  -0.262246 -10.944264 -2.470250  0.023180 -0.545362  0.813634  0.331955\n",
       "1  -0.262246 -10.944993 -2.495109  0.019695  0.857042 -0.572363  0.102365\n",
       "2  -0.262246 -10.948251 -2.689478  0.064897 -0.883097  0.231646 -0.465039\n",
       "3  -0.262246 -10.949970 -2.793037  0.084172  0.817486  0.815207  0.061924\n",
       "4  -0.262246 -10.949264 -2.739417  0.073640 -0.548368  0.814916  0.341104"
      ],
      "text/html": "<div>\n<style scoped>\n    .dataframe tbody tr th:only-of-type {\n        vertical-align: middle;\n    }\n\n    .dataframe tbody tr th {\n        vertical-align: top;\n    }\n\n    .dataframe thead th {\n        text-align: right;\n    }\n</style>\n<table border=\"1\" class=\"dataframe\">\n  <thead>\n    <tr style=\"text-align: right;\">\n      <th></th>\n      <th>conv_rate</th>\n      <th>pc1</th>\n      <th>pc2</th>\n      <th>pc3</th>\n      <th>pc4</th>\n      <th>pc5</th>\n      <th>pc6</th>\n    </tr>\n  </thead>\n  <tbody>\n    <tr>\n      <th>0</th>\n      <td>-0.262246</td>\n      <td>-10.944264</td>\n      <td>-2.470250</td>\n      <td>0.023180</td>\n      <td>-0.545362</td>\n      <td>0.813634</td>\n      <td>0.331955</td>\n    </tr>\n    <tr>\n      <th>1</th>\n      <td>-0.262246</td>\n      <td>-10.944993</td>\n      <td>-2.495109</td>\n      <td>0.019695</td>\n      <td>0.857042</td>\n      <td>-0.572363</td>\n      <td>0.102365</td>\n    </tr>\n    <tr>\n      <th>2</th>\n      <td>-0.262246</td>\n      <td>-10.948251</td>\n      <td>-2.689478</td>\n      <td>0.064897</td>\n      <td>-0.883097</td>\n      <td>0.231646</td>\n      <td>-0.465039</td>\n    </tr>\n    <tr>\n      <th>3</th>\n      <td>-0.262246</td>\n      <td>-10.949970</td>\n      <td>-2.793037</td>\n      <td>0.084172</td>\n      <td>0.817486</td>\n      <td>0.815207</td>\n      <td>0.061924</td>\n    </tr>\n    <tr>\n      <th>4</th>\n      <td>-0.262246</td>\n      <td>-10.949264</td>\n      <td>-2.739417</td>\n      <td>0.073640</td>\n      <td>-0.548368</td>\n      <td>0.814916</td>\n      <td>0.341104</td>\n    </tr>\n  </tbody>\n</table>\n</div>"
     },
     "metadata": {},
     "execution_count": 39
    }
   ],
   "source": [
    "pca = PCA(n_components=6)\n",
    "pca_reduced_data = pca.fit_transform(df.drop(columns=['conv_rate']))\n",
    "\n",
    "print(pca.explained_variance_ratio_)\n",
    "print('sum total explained variance: {}'.format(sum(pca.explained_variance_ratio_)))\n",
    "print(pca.singular_values_)\n",
    "\n",
    "conv_df = df[['conv_rate']]\n",
    "reduced_df = pd.DataFrame(pca_reduced_data, columns=['pc1', 'pc2', 'pc3', 'pc4', 'pc5', 'pc6'])\n",
    "pca_df = conv_df.join(reduced_df)\n",
    "pca_df.head()"
   ]
  },
  {
   "source": [
    "# Data Modeling"
   ],
   "cell_type": "markdown",
   "metadata": {}
  },
  {
   "source": [
    "## Data Prep"
   ],
   "cell_type": "markdown",
   "metadata": {}
  },
  {
   "cell_type": "code",
   "execution_count": 42,
   "metadata": {},
   "outputs": [],
   "source": [
    "pca_X_train, pca_X_test, pca_y_train, pca_y_test = train_test_split(pca_df.drop(columns=['conv_rate']).compute(), pca_df[['conv_rate']].compute(), test_size=0.33, random_state=42)"
   ]
  },
  {
   "cell_type": "code",
   "execution_count": 45,
   "metadata": {},
   "outputs": [],
   "source": [
    "enc_X_train, enc_X_test, enc_y_train, enc_y_test = train_test_split(encoded_df.drop(columns=['conv_rate']), encoded_df[['conv_rate']], test_size=0.33, random_state=42)"
   ]
  },
  {
   "source": [
    "## Linear Regression"
   ],
   "cell_type": "markdown",
   "metadata": {}
  },
  {
   "cell_type": "code",
   "execution_count": 46,
   "metadata": {},
   "outputs": [],
   "source": [
    "# pca Linear regression\n",
    "pca_lin_reg = LinearRegression().fit(pca_X_train, pca_y_train)\n",
    "\n",
    "# autoencoder linear regression\n",
    "enc_lin_reg = LinearRegression().fit(enc_X_train, enc_y_train)\n"
   ]
  },
  {
   "cell_type": "code",
   "execution_count": 53,
   "metadata": {},
   "outputs": [
    {
     "output_type": "stream",
     "name": "stdout",
     "text": [
      "\npca score: 0.0016645523640990145, \npca coefs: [[ 0.00133939  0.01689613  0.01305023  0.00150301 -0.00047918  0.00163531]], \npca intercept: [0.00498393]\n\nenc score: 0.10076421655780077, \nenc coefs: [[ 0.04239449 -0.02940937  0.02208099  0.12088491 -0.01153626  0.14453928]], \nenc intercept: [-0.5059542]\n"
     ]
    }
   ],
   "source": [
    "print('\\npca score: {}, \\npca coefs: {}, \\npca intercept: {}'.format(pca_lin_reg.score(pca_X_test,pca_y_test), pca_lin_reg.coef_, pca_lin_reg.intercept_))\n",
    "\n",
    "print('\\nenc score: {}, \\nenc coefs: {}, \\nenc intercept: {}'.format(enc_lin_reg.score(enc_X_test,enc_y_test), enc_lin_reg.coef_, enc_lin_reg.intercept_))"
   ]
  },
  {
   "source": [
    "# Non-Linear Regression"
   ],
   "cell_type": "markdown",
   "metadata": {}
  },
  {
   "source": [
    "## PCA Non-Linear Regression"
   ],
   "cell_type": "markdown",
   "metadata": {}
  },
  {
   "cell_type": "code",
   "execution_count": 60,
   "metadata": {},
   "outputs": [
    {
     "output_type": "execute_result",
     "data": {
      "text/plain": [
       "    0          1         2         3         4         5         6   \\\n",
       "0  1.0 -10.944264 -2.470250  0.023180 -0.545362  0.813634  0.331955   \n",
       "1  1.0 -10.944993 -2.495109  0.019695  0.857042 -0.572363  0.102365   \n",
       "2  1.0 -10.948251 -2.689478  0.064897 -0.883097  0.231646 -0.465039   \n",
       "3  1.0 -10.949970 -2.793037  0.084172  0.817486  0.815207  0.061924   \n",
       "4  1.0 -10.949264 -2.739417  0.073640 -0.548368  0.814916  0.341104   \n",
       "\n",
       "           7          8         9   ...        18        19        20  \\\n",
       "0  119.776920  27.035068 -0.253688  ...  0.000537 -0.012642  0.018860   \n",
       "1  119.792868  27.308954 -0.215557  ...  0.000388  0.016879 -0.011272   \n",
       "2  119.864198  29.445080 -0.710509  ...  0.004212 -0.057310  0.015033   \n",
       "3  119.901836  30.583666 -0.921681  ...  0.007085  0.068809  0.068618   \n",
       "4  119.886376  29.994600 -0.806309  ...  0.005423 -0.040382  0.060011   \n",
       "\n",
       "         21        22        23        24        25        26        27  \n",
       "0  0.007695  0.297420 -0.443725 -0.181036  0.662001  0.270090  0.110194  \n",
       "1  0.002016  0.734520 -0.490539  0.087731  0.327600 -0.058590  0.010479  \n",
       "2 -0.030180  0.779861 -0.204566  0.410675  0.053660 -0.107725  0.216261  \n",
       "3  0.005212  0.668283  0.666421  0.050622  0.664563  0.050481  0.003835  \n",
       "4  0.025119  0.300707 -0.446874 -0.187050  0.664088  0.277971  0.116352  \n",
       "\n",
       "[5 rows x 28 columns]"
      ],
      "text/html": "<div>\n<style scoped>\n    .dataframe tbody tr th:only-of-type {\n        vertical-align: middle;\n    }\n\n    .dataframe tbody tr th {\n        vertical-align: top;\n    }\n\n    .dataframe thead th {\n        text-align: right;\n    }\n</style>\n<table border=\"1\" class=\"dataframe\">\n  <thead>\n    <tr style=\"text-align: right;\">\n      <th></th>\n      <th>0</th>\n      <th>1</th>\n      <th>2</th>\n      <th>3</th>\n      <th>4</th>\n      <th>5</th>\n      <th>6</th>\n      <th>7</th>\n      <th>8</th>\n      <th>9</th>\n      <th>...</th>\n      <th>18</th>\n      <th>19</th>\n      <th>20</th>\n      <th>21</th>\n      <th>22</th>\n      <th>23</th>\n      <th>24</th>\n      <th>25</th>\n      <th>26</th>\n      <th>27</th>\n    </tr>\n  </thead>\n  <tbody>\n    <tr>\n      <th>0</th>\n      <td>1.0</td>\n      <td>-10.944264</td>\n      <td>-2.470250</td>\n      <td>0.023180</td>\n      <td>-0.545362</td>\n      <td>0.813634</td>\n      <td>0.331955</td>\n      <td>119.776920</td>\n      <td>27.035068</td>\n      <td>-0.253688</td>\n      <td>...</td>\n      <td>0.000537</td>\n      <td>-0.012642</td>\n      <td>0.018860</td>\n      <td>0.007695</td>\n      <td>0.297420</td>\n      <td>-0.443725</td>\n      <td>-0.181036</td>\n      <td>0.662001</td>\n      <td>0.270090</td>\n      <td>0.110194</td>\n    </tr>\n    <tr>\n      <th>1</th>\n      <td>1.0</td>\n      <td>-10.944993</td>\n      <td>-2.495109</td>\n      <td>0.019695</td>\n      <td>0.857042</td>\n      <td>-0.572363</td>\n      <td>0.102365</td>\n      <td>119.792868</td>\n      <td>27.308954</td>\n      <td>-0.215557</td>\n      <td>...</td>\n      <td>0.000388</td>\n      <td>0.016879</td>\n      <td>-0.011272</td>\n      <td>0.002016</td>\n      <td>0.734520</td>\n      <td>-0.490539</td>\n      <td>0.087731</td>\n      <td>0.327600</td>\n      <td>-0.058590</td>\n      <td>0.010479</td>\n    </tr>\n    <tr>\n      <th>2</th>\n      <td>1.0</td>\n      <td>-10.948251</td>\n      <td>-2.689478</td>\n      <td>0.064897</td>\n      <td>-0.883097</td>\n      <td>0.231646</td>\n      <td>-0.465039</td>\n      <td>119.864198</td>\n      <td>29.445080</td>\n      <td>-0.710509</td>\n      <td>...</td>\n      <td>0.004212</td>\n      <td>-0.057310</td>\n      <td>0.015033</td>\n      <td>-0.030180</td>\n      <td>0.779861</td>\n      <td>-0.204566</td>\n      <td>0.410675</td>\n      <td>0.053660</td>\n      <td>-0.107725</td>\n      <td>0.216261</td>\n    </tr>\n    <tr>\n      <th>3</th>\n      <td>1.0</td>\n      <td>-10.949970</td>\n      <td>-2.793037</td>\n      <td>0.084172</td>\n      <td>0.817486</td>\n      <td>0.815207</td>\n      <td>0.061924</td>\n      <td>119.901836</td>\n      <td>30.583666</td>\n      <td>-0.921681</td>\n      <td>...</td>\n      <td>0.007085</td>\n      <td>0.068809</td>\n      <td>0.068618</td>\n      <td>0.005212</td>\n      <td>0.668283</td>\n      <td>0.666421</td>\n      <td>0.050622</td>\n      <td>0.664563</td>\n      <td>0.050481</td>\n      <td>0.003835</td>\n    </tr>\n    <tr>\n      <th>4</th>\n      <td>1.0</td>\n      <td>-10.949264</td>\n      <td>-2.739417</td>\n      <td>0.073640</td>\n      <td>-0.548368</td>\n      <td>0.814916</td>\n      <td>0.341104</td>\n      <td>119.886376</td>\n      <td>29.994600</td>\n      <td>-0.806309</td>\n      <td>...</td>\n      <td>0.005423</td>\n      <td>-0.040382</td>\n      <td>0.060011</td>\n      <td>0.025119</td>\n      <td>0.300707</td>\n      <td>-0.446874</td>\n      <td>-0.187050</td>\n      <td>0.664088</td>\n      <td>0.277971</td>\n      <td>0.116352</td>\n    </tr>\n  </tbody>\n</table>\n<p>5 rows × 28 columns</p>\n</div>"
     },
     "metadata": {},
     "execution_count": 60
    }
   ],
   "source": [
    "# generate non linar features for PCA\n",
    "poly = PolynomialFeatures(2)\n",
    "pca_poly_matrix = poly.fit_transform(pca_df.drop(columns=['conv_rate']))\n",
    "pca_poly_df = pd.DataFrame(pca_poly_matrix)\n",
    "pca_poly_df.head()\n",
    "# pca_df"
   ]
  },
  {
   "cell_type": "code",
   "execution_count": 61,
   "metadata": {},
   "outputs": [
    {
     "output_type": "execute_result",
     "data": {
      "text/plain": [
       "(1435733, 28)"
      ]
     },
     "metadata": {},
     "execution_count": 61
    }
   ],
   "source": [
    "pca_poly_df.shape"
   ]
  },
  {
   "cell_type": "code",
   "execution_count": 62,
   "metadata": {},
   "outputs": [],
   "source": [
    "pca_poly_X_train, pca_poly_X_test, pca_poly_y_train, pca_poly_y_test = train_test_split(pca_poly_df, pca_df[['conv_rate']].compute(), test_size=0.33, random_state=42)"
   ]
  },
  {
   "cell_type": "code",
   "execution_count": 65,
   "metadata": {},
   "outputs": [],
   "source": [
    "pca_lin_reg = LinearRegression().fit(pca_poly_X_train, pca_poly_y_train)"
   ]
  },
  {
   "cell_type": "code",
   "execution_count": 66,
   "metadata": {},
   "outputs": [
    {
     "output_type": "stream",
     "name": "stdout",
     "text": [
      "\npca score: 0.002778226991056565, \npca coefs: [[-9.70678855e-17  1.44423035e-03  6.46628937e-02  3.56245035e-01\n   3.56843682e-03 -1.23566745e-03 -1.55562202e-02 -1.27920092e-05\n   5.03959644e-06  8.39683142e-04 -3.60024067e-04 -4.06939039e-04\n   1.11612267e-03  6.26908656e-03 -8.87625418e-03  2.87967917e-04\n  -1.08633630e-03  1.45536436e-03 -9.27501068e-02 -3.89574494e-04\n   5.34311160e-04 -1.41225016e-03 -1.04233989e-02 -1.88456345e-03\n  -1.76619246e-02  1.11490520e-03 -5.69731582e-03  6.72320027e-03]], \npca intercept: [0.07634688]\n"
     ]
    }
   ],
   "source": [
    "print('\\npca score: {}, \\npca coefs: {}, \\npca intercept: {}'.format(pca_lin_reg.score(pca_poly_X_test,pca_poly_y_test), pca_lin_reg.coef_, pca_lin_reg.intercept_))"
   ]
  }
 ]
}