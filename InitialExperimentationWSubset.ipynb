{
 "cells": [
  {
   "cell_type": "code",
   "execution_count": 9,
   "id": "raising-resistance",
   "metadata": {},
   "outputs": [],
   "source": [
    "import pandas as pd\n",
    "import psycopg2\n",
    "from google.cloud import bigquery\n",
    "from helper_fns import initial_cleanup"
   ]
  },
  {
   "cell_type": "code",
   "execution_count": 33,
   "id": "choice-retirement",
   "metadata": {},
   "outputs": [
    {
     "output_type": "execute_result",
     "data": {
      "text/plain": [
       "'declare date_start date default \"2020-03-02\"; declare date_end date default \"2020-09-02\" ; SELECT session.id as sess_id, session.conn_rtt as rtt_ms, session.engaged, session.conversion_count, session.conversion_value, session.user.id as user, session.ts as start_time, session.locale.country_iso_code, session.device.name as device_name, session.device.browser_name as browser, session.os.name as os_name, ARRAY_LENGTH(session.hits) as hit_count, ARRAY_LENGTH(hits_column.events) as event_count FROM `qtm-qmdatest.qm.quinnmurray` as session,unnest(hits) as hits_column WHERE DATE(PARTITIONTIME) between date_start and date_end'"
      ]
     },
     "metadata": {},
     "execution_count": 33
    }
   ],
   "source": [
    "# client = bigquery.Client()\n",
    "# client.query(\"SELECT id FROM `qtm-qmdatest.qm.quinnmurray` WHERE DATE(PARTITIONTIME) = '2020-09-24' LIMIT 10\")\n",
    "\n",
    "initial_query = \"declare date_start date default \\\"2020-03-02\\\"; declare date_end date default \\\"2020-09-02\\\" ; SELECT session.id as sess_id, session.conn_rtt as rtt_ms, session.engaged, session.conversion_count, session.conversion_value, session.user.id as user, session.ts as start_time, session.locale.country_iso_code, session.device.name as device_name, session.device.browser_name as browser, session.os.name as os_name, ARRAY_LENGTH(session.hits) as hit_count, ARRAY_LENGTH(hits_column.events) as event_count FROM `qtm-qmdatest.qm.quinnmurray` as session,unnest(hits) as hits_column WHERE DATE(PARTITIONTIME) between date_start and date_end\"\n",
    "\n",
    "query\n"
   ]
  },
  {
   "cell_type": "code",
   "execution_count": 11,
   "metadata": {},
   "outputs": [
    {
     "output_type": "execute_result",
     "data": {
      "text/plain": [
       "        id                            cookie          ts    day    hour  \\\n",
       "0  4828495  757e0cd28bcfdd3c88ba89491d3ec682  1600922999  18529  444700   \n",
       "1  4831185  9f4035bccca5f3fe11fcdd2d4661ee8c  1600958005  18529  444710   \n",
       "2  4831330  9f4035bccca5f3fe11fcdd2d4661ee8c  1600960595  18529  444711   \n",
       "3  4832203  1699c06091020c53fa148cb344644d6f  1600972953  18529  444714   \n",
       "4  4832042  5dd3871d583ca4942a04791207e3e199  1600970329  18529  444713   \n",
       "\n",
       "   last_updated  screen_width  screen_height  conversion_count  \\\n",
       "0    1600923006          1280            960                 0   \n",
       "1    1600958162          3440           1440                 0   \n",
       "2    1600960805          3440           1440                 0   \n",
       "3    1600973253          1440            900                 0   \n",
       "4    1600970723          1440            900                 0   \n",
       "\n",
       "   conversion_value  ...                                               user  \\\n",
       "0                 0  ...  {'id': '4816048', 'email': '', 'login': '', 'c...   \n",
       "1                 0  ...  {'id': '2933276', 'email': '', 'login': '', 'c...   \n",
       "2                 0  ...  {'id': '2933276', 'email': '', 'login': '', 'c...   \n",
       "3                 0  ...  {'id': '4819573', 'email': '', 'login': '', 'c...   \n",
       "4                 0  ...  {'id': '4819573', 'email': '', 'login': '', 'c...   \n",
       "\n",
       "                                              locale  \\\n",
       "0  {'ip': '77.88.5.40', 'country_iso_code': 'RU',...   \n",
       "1  {'ip': '50.250.155.9', 'country_iso_code': 'US...   \n",
       "2  {'ip': '50.250.155.9', 'country_iso_code': 'US...   \n",
       "3  {'ip': '98.115.163.63', 'country_iso_code': 'U...   \n",
       "4  {'ip': '98.115.163.63', 'country_iso_code': 'U...   \n",
       "\n",
       "                                              device  \\\n",
       "0  {'name_id': '2', 'name': 'unknown', 'type_id':...   \n",
       "1  {'name_id': '4', 'name': 'Macintosh', 'type_id...   \n",
       "2  {'name_id': '4', 'name': 'Macintosh', 'type_id...   \n",
       "3  {'name_id': '4', 'name': 'Macintosh', 'type_id...   \n",
       "4  {'name_id': '4', 'name': 'Macintosh', 'type_id...   \n",
       "\n",
       "                                                  os  \\\n",
       "0         {'id': '8', 'name': '', 'type': 'unknown'}   \n",
       "1     {'id': '12', 'name': 'macOS', 'type': 'macOS'}   \n",
       "2     {'id': '12', 'name': 'macOS', 'type': 'macOS'}   \n",
       "3  {'id': '13', 'name': 'Mac OS X', 'type': 'MacO...   \n",
       "4  {'id': '13', 'name': 'Mac OS X', 'type': 'MacO...   \n",
       "\n",
       "                                         landing_url  \\\n",
       "0  {'id': '262', 'domain_id': '2', 'domain': 'qui...   \n",
       "1  {'id': '262', 'domain_id': '2', 'domain': 'qui...   \n",
       "2  {'id': '262', 'domain_id': '2', 'domain': 'qui...   \n",
       "3  {'id': '270', 'domain_id': '2', 'domain': 'qui...   \n",
       "4  {'id': '270', 'domain_id': '2', 'domain': 'qui...   \n",
       "\n",
       "                                            last_url  \\\n",
       "0  {'id': None, 'domain_id': '2', 'domain': 'quin...   \n",
       "1  {'id': None, 'domain_id': '2', 'domain': 'quin...   \n",
       "2  {'id': None, 'domain_id': '2', 'domain': 'quin...   \n",
       "3  {'id': None, 'domain_id': '2', 'domain': 'quin...   \n",
       "4  {'id': None, 'domain_id': '2', 'domain': 'quin...   \n",
       "\n",
       "                                            referrer  \\\n",
       "0  {'id': '1', 'category_id': '1', 'category': 'D...   \n",
       "1  {'id': '1', 'category_id': '1', 'category': 'D...   \n",
       "2  {'id': '1', 'category_id': '1', 'category': 'D...   \n",
       "3  {'id': '1', 'category_id': '1', 'category': 'D...   \n",
       "4  {'id': '1', 'category_id': '1', 'category': 'D...   \n",
       "\n",
       "                                      first_referrer  \\\n",
       "0  {'id': '1', 'category_id': '1', 'category': 'D...   \n",
       "1  {'id': '1', 'category_id': '1', 'category': 'D...   \n",
       "2  {'id': '1', 'category_id': '1', 'category': 'D...   \n",
       "3  {'id': '1', 'category_id': '1', 'category': 'D...   \n",
       "4  {'id': '1', 'category_id': '1', 'category': 'D...   \n",
       "\n",
       "                                                hits            PARTITIONTIME  \n",
       "0  [{'id': '31166714', 'session_id': '4828495', '...  2020-09-24 00:00:00 UTC  \n",
       "1  [{'id': '31185709', 'session_id': '4831185', '...  2020-09-24 00:00:00 UTC  \n",
       "2  [{'id': '31186734', 'session_id': '4831330', '...  2020-09-24 00:00:00 UTC  \n",
       "3  [{'id': '31192730', 'session_id': '4832203', '...  2020-09-24 00:00:00 UTC  \n",
       "4  [{'id': '31191619', 'session_id': '4832042', '...  2020-09-24 00:00:00 UTC  \n",
       "\n",
       "[5 rows x 32 columns]"
      ],
      "text/html": "<div>\n<style scoped>\n    .dataframe tbody tr th:only-of-type {\n        vertical-align: middle;\n    }\n\n    .dataframe tbody tr th {\n        vertical-align: top;\n    }\n\n    .dataframe thead th {\n        text-align: right;\n    }\n</style>\n<table border=\"1\" class=\"dataframe\">\n  <thead>\n    <tr style=\"text-align: right;\">\n      <th></th>\n      <th>id</th>\n      <th>cookie</th>\n      <th>ts</th>\n      <th>day</th>\n      <th>hour</th>\n      <th>last_updated</th>\n      <th>screen_width</th>\n      <th>screen_height</th>\n      <th>conversion_count</th>\n      <th>conversion_value</th>\n      <th>...</th>\n      <th>user</th>\n      <th>locale</th>\n      <th>device</th>\n      <th>os</th>\n      <th>landing_url</th>\n      <th>last_url</th>\n      <th>referrer</th>\n      <th>first_referrer</th>\n      <th>hits</th>\n      <th>PARTITIONTIME</th>\n    </tr>\n  </thead>\n  <tbody>\n    <tr>\n      <th>0</th>\n      <td>4828495</td>\n      <td>757e0cd28bcfdd3c88ba89491d3ec682</td>\n      <td>1600922999</td>\n      <td>18529</td>\n      <td>444700</td>\n      <td>1600923006</td>\n      <td>1280</td>\n      <td>960</td>\n      <td>0</td>\n      <td>0</td>\n      <td>...</td>\n      <td>{'id': '4816048', 'email': '', 'login': '', 'c...</td>\n      <td>{'ip': '77.88.5.40', 'country_iso_code': 'RU',...</td>\n      <td>{'name_id': '2', 'name': 'unknown', 'type_id':...</td>\n      <td>{'id': '8', 'name': '', 'type': 'unknown'}</td>\n      <td>{'id': '262', 'domain_id': '2', 'domain': 'qui...</td>\n      <td>{'id': None, 'domain_id': '2', 'domain': 'quin...</td>\n      <td>{'id': '1', 'category_id': '1', 'category': 'D...</td>\n      <td>{'id': '1', 'category_id': '1', 'category': 'D...</td>\n      <td>[{'id': '31166714', 'session_id': '4828495', '...</td>\n      <td>2020-09-24 00:00:00 UTC</td>\n    </tr>\n    <tr>\n      <th>1</th>\n      <td>4831185</td>\n      <td>9f4035bccca5f3fe11fcdd2d4661ee8c</td>\n      <td>1600958005</td>\n      <td>18529</td>\n      <td>444710</td>\n      <td>1600958162</td>\n      <td>3440</td>\n      <td>1440</td>\n      <td>0</td>\n      <td>0</td>\n      <td>...</td>\n      <td>{'id': '2933276', 'email': '', 'login': '', 'c...</td>\n      <td>{'ip': '50.250.155.9', 'country_iso_code': 'US...</td>\n      <td>{'name_id': '4', 'name': 'Macintosh', 'type_id...</td>\n      <td>{'id': '12', 'name': 'macOS', 'type': 'macOS'}</td>\n      <td>{'id': '262', 'domain_id': '2', 'domain': 'qui...</td>\n      <td>{'id': None, 'domain_id': '2', 'domain': 'quin...</td>\n      <td>{'id': '1', 'category_id': '1', 'category': 'D...</td>\n      <td>{'id': '1', 'category_id': '1', 'category': 'D...</td>\n      <td>[{'id': '31185709', 'session_id': '4831185', '...</td>\n      <td>2020-09-24 00:00:00 UTC</td>\n    </tr>\n    <tr>\n      <th>2</th>\n      <td>4831330</td>\n      <td>9f4035bccca5f3fe11fcdd2d4661ee8c</td>\n      <td>1600960595</td>\n      <td>18529</td>\n      <td>444711</td>\n      <td>1600960805</td>\n      <td>3440</td>\n      <td>1440</td>\n      <td>0</td>\n      <td>0</td>\n      <td>...</td>\n      <td>{'id': '2933276', 'email': '', 'login': '', 'c...</td>\n      <td>{'ip': '50.250.155.9', 'country_iso_code': 'US...</td>\n      <td>{'name_id': '4', 'name': 'Macintosh', 'type_id...</td>\n      <td>{'id': '12', 'name': 'macOS', 'type': 'macOS'}</td>\n      <td>{'id': '262', 'domain_id': '2', 'domain': 'qui...</td>\n      <td>{'id': None, 'domain_id': '2', 'domain': 'quin...</td>\n      <td>{'id': '1', 'category_id': '1', 'category': 'D...</td>\n      <td>{'id': '1', 'category_id': '1', 'category': 'D...</td>\n      <td>[{'id': '31186734', 'session_id': '4831330', '...</td>\n      <td>2020-09-24 00:00:00 UTC</td>\n    </tr>\n    <tr>\n      <th>3</th>\n      <td>4832203</td>\n      <td>1699c06091020c53fa148cb344644d6f</td>\n      <td>1600972953</td>\n      <td>18529</td>\n      <td>444714</td>\n      <td>1600973253</td>\n      <td>1440</td>\n      <td>900</td>\n      <td>0</td>\n      <td>0</td>\n      <td>...</td>\n      <td>{'id': '4819573', 'email': '', 'login': '', 'c...</td>\n      <td>{'ip': '98.115.163.63', 'country_iso_code': 'U...</td>\n      <td>{'name_id': '4', 'name': 'Macintosh', 'type_id...</td>\n      <td>{'id': '13', 'name': 'Mac OS X', 'type': 'MacO...</td>\n      <td>{'id': '270', 'domain_id': '2', 'domain': 'qui...</td>\n      <td>{'id': None, 'domain_id': '2', 'domain': 'quin...</td>\n      <td>{'id': '1', 'category_id': '1', 'category': 'D...</td>\n      <td>{'id': '1', 'category_id': '1', 'category': 'D...</td>\n      <td>[{'id': '31192730', 'session_id': '4832203', '...</td>\n      <td>2020-09-24 00:00:00 UTC</td>\n    </tr>\n    <tr>\n      <th>4</th>\n      <td>4832042</td>\n      <td>5dd3871d583ca4942a04791207e3e199</td>\n      <td>1600970329</td>\n      <td>18529</td>\n      <td>444713</td>\n      <td>1600970723</td>\n      <td>1440</td>\n      <td>900</td>\n      <td>0</td>\n      <td>0</td>\n      <td>...</td>\n      <td>{'id': '4819573', 'email': '', 'login': '', 'c...</td>\n      <td>{'ip': '98.115.163.63', 'country_iso_code': 'U...</td>\n      <td>{'name_id': '4', 'name': 'Macintosh', 'type_id...</td>\n      <td>{'id': '13', 'name': 'Mac OS X', 'type': 'MacO...</td>\n      <td>{'id': '270', 'domain_id': '2', 'domain': 'qui...</td>\n      <td>{'id': None, 'domain_id': '2', 'domain': 'quin...</td>\n      <td>{'id': '1', 'category_id': '1', 'category': 'D...</td>\n      <td>{'id': '1', 'category_id': '1', 'category': 'D...</td>\n      <td>[{'id': '31191619', 'session_id': '4832042', '...</td>\n      <td>2020-09-24 00:00:00 UTC</td>\n    </tr>\n  </tbody>\n</table>\n<p>5 rows × 32 columns</p>\n</div>"
     },
     "metadata": {},
     "execution_count": 11
    }
   ],
   "source": [
    "# json = pd.read_json(r\"C:\\Users\\Vincent\\Documents\\Personal\\Brian\\Work\\experiments\\quantum_metric_test\\subset.json\")\n",
    "json = pd.read_json(r\"C:\\Users\\Vincent\\Documents\\Personal\\Brian\\Work\\experiments\\quantum_metric_test\\full_data_set.json\")\n",
    "json.head()"
   ]
  },
  {
   "cell_type": "code",
   "execution_count": 12,
   "metadata": {},
   "outputs": [
    {
     "output_type": "execute_result",
     "data": {
      "text/plain": [
       "(791, 32)"
      ]
     },
     "metadata": {},
     "execution_count": 12
    }
   ],
   "source": [
    "json.shape"
   ]
  },
  {
   "source": [
    "# Cleaning up some columns"
   ],
   "cell_type": "markdown",
   "metadata": {}
  },
  {
   "cell_type": "code",
   "execution_count": 3,
   "metadata": {},
   "outputs": [],
   "source": [
    "df = initial_cleanup(json)"
   ]
  }
 ],
 "metadata": {
  "kernelspec": {
   "display_name": "Python 3",
   "language": "python",
   "name": "python3"
  },
  "language_info": {
   "codemirror_mode": {
    "name": "ipython",
    "version": 3
   },
   "file_extension": ".py",
   "mimetype": "text/x-python",
   "name": "python",
   "nbconvert_exporter": "python",
   "pygments_lexer": "ipython3",
   "version": "3.9.1-final"
  }
 },
 "nbformat": 4,
 "nbformat_minor": 5
}