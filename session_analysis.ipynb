{
 "metadata": {
  "language_info": {
   "codemirror_mode": {
    "name": "ipython",
    "version": 3
   },
   "file_extension": ".py",
   "mimetype": "text/x-python",
   "name": "python",
   "nbconvert_exporter": "python",
   "pygments_lexer": "ipython3",
   "version": "3.9.1-final"
  },
  "orig_nbformat": 2,
  "kernelspec": {
   "name": "python3",
   "display_name": "Python 3.9.1 64-bit",
   "metadata": {
    "interpreter": {
     "hash": "859ac159723c08ac16fb645312cc11d984f59a6ad572b85b4d1d3812d8c8ece0"
    }
   }
  }
 },
 "nbformat": 4,
 "nbformat_minor": 2,
 "cells": [
  {
   "source": [
    "# Session Analysis"
   ],
   "cell_type": "markdown",
   "metadata": {}
  },
  {
   "cell_type": "code",
   "execution_count": 1,
   "metadata": {},
   "outputs": [],
   "source": [
    "import pandas as pd\n",
    "import dask.dataframe as ddf\n",
    "import seaborn as sbn\n",
    "import matplotlib.pyplot as plt\n",
    "from sklearn.preprocessing import OneHotEncoder\n",
    "import helper_fns\n",
    "%matplotlib inline"
   ]
  },
  {
   "source": [
    "# Initial data exploration"
   ],
   "cell_type": "markdown",
   "metadata": {}
  },
  {
   "cell_type": "code",
   "execution_count": 2,
   "metadata": {},
   "outputs": [
    {
     "output_type": "execute_result",
     "data": {
      "text/plain": [
       "   sess_id  rtt_ms  engaged  conv_val  conv_cnt  conv_rate  start_hour  \\\n",
       "0  4347814   100.0     True         0         0        NaN          23   \n",
       "1  4347831    50.0     True         0         0        NaN          23   \n",
       "2  4347833    50.0     True         0         0        NaN          23   \n",
       "3  4347837   100.0     True         0         0        NaN          23   \n",
       "4  4347838   100.0     True         0         0        NaN          23   \n",
       "\n",
       "      user  loyalty  loyal  ... os_id  refer_catg  refer_catg_id  \\\n",
       "0  4337070        1  False  ...     8        Link              7   \n",
       "1  4337087        1  False  ...    12      Search              6   \n",
       "2  4337089        1  False  ...    15      Social              5   \n",
       "3  4337093        1  False  ...     8      Social              5   \n",
       "4  4337094        1  False  ...     8      Social              5   \n",
       "\n",
       "   refer_subCatg  refer_subCatg_id pg_count  hit_evnt_cnt hit_evnt_clicks  \\\n",
       "0            NaN                42        1            12               1   \n",
       "1      yahoo.com                38        1            11               1   \n",
       "2   facebook.com                17        1             8               1   \n",
       "3  instagram.com                19        1             8               1   \n",
       "4  instagram.com                19        1            11               1   \n",
       "\n",
       "   hit_evnt_forms hit_evnt_ajax  \n",
       "0               1             4  \n",
       "1               1             3  \n",
       "2               1             4  \n",
       "3               1             2  \n",
       "4               1             3  \n",
       "\n",
       "[5 rows x 28 columns]"
      ],
      "text/html": "<div>\n<style scoped>\n    .dataframe tbody tr th:only-of-type {\n        vertical-align: middle;\n    }\n\n    .dataframe tbody tr th {\n        vertical-align: top;\n    }\n\n    .dataframe thead th {\n        text-align: right;\n    }\n</style>\n<table border=\"1\" class=\"dataframe\">\n  <thead>\n    <tr style=\"text-align: right;\">\n      <th></th>\n      <th>sess_id</th>\n      <th>rtt_ms</th>\n      <th>engaged</th>\n      <th>conv_val</th>\n      <th>conv_cnt</th>\n      <th>conv_rate</th>\n      <th>start_hour</th>\n      <th>user</th>\n      <th>loyalty</th>\n      <th>loyal</th>\n      <th>...</th>\n      <th>os_id</th>\n      <th>refer_catg</th>\n      <th>refer_catg_id</th>\n      <th>refer_subCatg</th>\n      <th>refer_subCatg_id</th>\n      <th>pg_count</th>\n      <th>hit_evnt_cnt</th>\n      <th>hit_evnt_clicks</th>\n      <th>hit_evnt_forms</th>\n      <th>hit_evnt_ajax</th>\n    </tr>\n  </thead>\n  <tbody>\n    <tr>\n      <th>0</th>\n      <td>4347814</td>\n      <td>100.0</td>\n      <td>True</td>\n      <td>0</td>\n      <td>0</td>\n      <td>NaN</td>\n      <td>23</td>\n      <td>4337070</td>\n      <td>1</td>\n      <td>False</td>\n      <td>...</td>\n      <td>8</td>\n      <td>Link</td>\n      <td>7</td>\n      <td>NaN</td>\n      <td>42</td>\n      <td>1</td>\n      <td>12</td>\n      <td>1</td>\n      <td>1</td>\n      <td>4</td>\n    </tr>\n    <tr>\n      <th>1</th>\n      <td>4347831</td>\n      <td>50.0</td>\n      <td>True</td>\n      <td>0</td>\n      <td>0</td>\n      <td>NaN</td>\n      <td>23</td>\n      <td>4337087</td>\n      <td>1</td>\n      <td>False</td>\n      <td>...</td>\n      <td>12</td>\n      <td>Search</td>\n      <td>6</td>\n      <td>yahoo.com</td>\n      <td>38</td>\n      <td>1</td>\n      <td>11</td>\n      <td>1</td>\n      <td>1</td>\n      <td>3</td>\n    </tr>\n    <tr>\n      <th>2</th>\n      <td>4347833</td>\n      <td>50.0</td>\n      <td>True</td>\n      <td>0</td>\n      <td>0</td>\n      <td>NaN</td>\n      <td>23</td>\n      <td>4337089</td>\n      <td>1</td>\n      <td>False</td>\n      <td>...</td>\n      <td>15</td>\n      <td>Social</td>\n      <td>5</td>\n      <td>facebook.com</td>\n      <td>17</td>\n      <td>1</td>\n      <td>8</td>\n      <td>1</td>\n      <td>1</td>\n      <td>4</td>\n    </tr>\n    <tr>\n      <th>3</th>\n      <td>4347837</td>\n      <td>100.0</td>\n      <td>True</td>\n      <td>0</td>\n      <td>0</td>\n      <td>NaN</td>\n      <td>23</td>\n      <td>4337093</td>\n      <td>1</td>\n      <td>False</td>\n      <td>...</td>\n      <td>8</td>\n      <td>Social</td>\n      <td>5</td>\n      <td>instagram.com</td>\n      <td>19</td>\n      <td>1</td>\n      <td>8</td>\n      <td>1</td>\n      <td>1</td>\n      <td>2</td>\n    </tr>\n    <tr>\n      <th>4</th>\n      <td>4347838</td>\n      <td>100.0</td>\n      <td>True</td>\n      <td>0</td>\n      <td>0</td>\n      <td>NaN</td>\n      <td>23</td>\n      <td>4337094</td>\n      <td>1</td>\n      <td>False</td>\n      <td>...</td>\n      <td>8</td>\n      <td>Social</td>\n      <td>5</td>\n      <td>instagram.com</td>\n      <td>19</td>\n      <td>1</td>\n      <td>11</td>\n      <td>1</td>\n      <td>1</td>\n      <td>3</td>\n    </tr>\n  </tbody>\n</table>\n<p>5 rows × 28 columns</p>\n</div>"
     },
     "metadata": {},
     "execution_count": 2
    }
   ],
   "source": [
    "df = ddf.read_csv('session_data_v2.csv')\n",
    "df.head()"
   ]
  },
  {
   "cell_type": "code",
   "execution_count": 3,
   "metadata": {},
   "outputs": [
    {
     "output_type": "execute_result",
     "data": {
      "text/plain": [
       "Index(['sess_id', 'rtt_ms', 'engaged', 'conv_val', 'conv_cnt', 'conv_rate',\n",
       "       'start_hour', 'user', 'loyalty', 'loyal', 'country_iso_code', 'lat',\n",
       "       'long', 'device_name', 'device_id', 'browser', 'browser_id', 'os_name',\n",
       "       'os_id', 'refer_catg', 'refer_catg_id', 'refer_subCatg',\n",
       "       'refer_subCatg_id', 'pg_count', 'hit_evnt_cnt', 'hit_evnt_clicks',\n",
       "       'hit_evnt_forms', 'hit_evnt_ajax'],\n",
       "      dtype='object')"
      ]
     },
     "metadata": {},
     "execution_count": 3
    }
   ],
   "source": [
    "df.columns"
   ]
  },
  {
   "cell_type": "code",
   "execution_count": 4,
   "metadata": {},
   "outputs": [
    {
     "output_type": "execute_result",
     "data": {
      "text/plain": [
       "(2414594, 28)"
      ]
     },
     "metadata": {},
     "execution_count": 4
    }
   ],
   "source": [
    "df.compute().shape"
   ]
  },
  {
   "cell_type": "code",
   "execution_count": 5,
   "metadata": {},
   "outputs": [
    {
     "output_type": "stream",
     "name": "stdout",
     "text": [
      "19 unique country codes: ['US' 'RU' 'DE' 'GB' 'FR' 'IN' 'EG' 'IL' 'IE' 'CA' 'CR' 'UA' 'BR' 'GR'\n",
      " 'CH' 'PK' 'SE' 'CO' 'FI']\n",
      "70 unique browser ids: ['Chrome' 'Safari' 'Flipboard App' 'Opera Mobile' 'Google App'\n",
      " 'Samsung Browser' 'IE' 'Silk' 'Edge' 'Apple Mail' 'UC Browser' 'AliApp'\n",
      " 'Opera' 'Facebook App' 'Sogou Explorer' 'Yandex Browser'\n",
      " 'Android WebView' 'Chromium' 'Firefox for iOS' 'Maxthon'\n",
      " 'Default Browser' 'Vivaldi' 'Whale Browser' 'Splash' 'Iron'\n",
      " 'Facebook Messenger' 'Firefox' 'Vivo Browser' 'Mobile Safari UIWebView'\n",
      " 'QQBrowser' 'Dragon' 'liebao' 'Yandex' 'Headless Chrome'\n",
      " 'Coc Coc Browser' 'BingPreview' 'Google Lighthouse' 'safari' 'chrome'\n",
      " 'edge' 'samsung browser' 'opera mobile' 'silk' 'ie' 'opera' 'aliapp'\n",
      " 'chromium' 'vivaldi' 'kuaiso' 'sklikbot' 'feedhub' 'Kuaiso' 'w3clinemode'\n",
      " 'LinkedInBot' 'SklikBot' 'Desktop Sidebar' 'Nokia Proxy Browser' 'mozdex'\n",
      " 'apusbrowser' 'webringchecker' 'linkedinbot' 'newsarticle app'\n",
      " 'magpie-crawler' 'APUSBrowser' 'juzi browser'\n",
      " 'php browser capabilities project' 'Mozdex' 'NewsArticle App' 'FeedHub'\n",
      " 'WebRingChecker']\n",
      "27 unique os ids: [nan 'macOS' 'Windows 8.1' 'Linux' 'Windows 10' 'iPod, iPhone & iPad'\n",
      " 'Windows 7' 'Mac OS X' 'Windows XP' 'Google Chrome OS' 'Ubuntu Linux'\n",
      " 'Windows Vista' 'Windows 8' 'Maemo' 'Android OS' 'macos' 'windows 7'\n",
      " 'windows 10' 'ubuntu linux' 'windows 8.1' 'Windows' 'linux' 'windows xp'\n",
      " 'windows vista' 'google chrome os' 'windows 2000' 'mac os x']\n",
      "42 unique device names: ['iPad' 'Macintosh' 'Windows Desktop' 'iPhone' 'general Mobile Phone'\n",
      " 'general Mobile Device' 'Linux Desktop' 'general Tablet' 'Pixel 3a'\n",
      " 'Mi A1' 'Kindle' 'Pixel 3 XL' 'Pixel 3' '6' 'Galaxy S9+' 'unknown'\n",
      " 'Galaxy S10 Global Dual SIM' 'Redmi Note 4' 'Pixel 3a XL' 'TV'\n",
      " 'Redmi Note 5' 'Nexus 5' 'Galaxy S9' 'Galaxy J8' 'ipad' 'macintosh'\n",
      " 'windows desktop' 'general mobile phone' 'Galaxy Note II' 'iphone'\n",
      " 'general tablet' 'Tornado 348' 'linux desktop' 'fire tv (3rd generation)'\n",
      " 'pixel 3 xl' 'galaxy s10 global dual sim' 'techno 9.7 3g' 'Techno 9.7 3G'\n",
      " 'mi max 2' 'razr i' 'Fire 7 (2017)' nan]\n",
      "4 unique referral categories: ['Link' 'Search' 'Social' 'Direct']\n",
      "10 unique referral SubCategories: [nan 'yahoo.com' 'facebook.com' 'instagram.com' 'pinterest.com'\n",
      " 'google.com' 'baidu.com' 'bing.com' 'ask.com' 'duckduckgo.com']\n"
     ]
    }
   ],
   "source": [
    "print('{} unique country codes: {}'.format(len(df.country_iso_code.compute().unique()), df.country_iso_code.compute().unique()))\n",
    "print('{} unique browser ids: {}'.format(len(df.browser.compute().unique()), df.browser.compute().unique()))\n",
    "print('{} unique os ids: {}'.format(len(df.os_name.compute().unique()), df.os_name.compute().unique()))\n",
    "print('{} unique device names: {}'.format(len(df.device_name.compute().unique()), df.device_name.compute().unique()))\n",
    "print('{} unique referral categories: {}'.format(len(df.refer_catg.compute().unique()), df.refer_catg.compute().unique()))\n",
    "print('{} unique referral SubCategories: {}'.format(len(df.refer_subCatg.compute().unique()), df.refer_subCatg.compute().unique()))"
   ]
  },
  {
   "source": [
    "# Select columns we want to use"
   ],
   "cell_type": "markdown",
   "metadata": {}
  },
  {
   "cell_type": "code",
   "execution_count": 6,
   "metadata": {},
   "outputs": [
    {
     "output_type": "execute_result",
     "data": {
      "text/plain": [
       "   conv_rate  start_hour  loyalty  loyal country_iso_code      device_name  \\\n",
       "0        NaN          23        1  False               US             iPad   \n",
       "1        NaN          23        1  False               US        Macintosh   \n",
       "2        NaN          23        1  False               US  Windows Desktop   \n",
       "3        NaN          23        1  False               US             iPad   \n",
       "4        NaN          23        1  False               US           iPhone   \n",
       "\n",
       "  browser      os_name refer_catg  refer_subCatg  pg_count  hit_evnt_cnt  \\\n",
       "0  Chrome          NaN       Link            NaN         1            12   \n",
       "1  Chrome        macOS     Search      yahoo.com         1            11   \n",
       "2  Chrome  Windows 8.1     Social   facebook.com         1             8   \n",
       "3  Safari          NaN     Social  instagram.com         1             8   \n",
       "4  Chrome          NaN     Social  instagram.com         1            11   \n",
       "\n",
       "   hit_evnt_clicks  hit_evnt_forms  hit_evnt_ajax  \n",
       "0                1               1              4  \n",
       "1                1               1              3  \n",
       "2                1               1              4  \n",
       "3                1               1              2  \n",
       "4                1               1              3  "
      ],
      "text/html": "<div>\n<style scoped>\n    .dataframe tbody tr th:only-of-type {\n        vertical-align: middle;\n    }\n\n    .dataframe tbody tr th {\n        vertical-align: top;\n    }\n\n    .dataframe thead th {\n        text-align: right;\n    }\n</style>\n<table border=\"1\" class=\"dataframe\">\n  <thead>\n    <tr style=\"text-align: right;\">\n      <th></th>\n      <th>conv_rate</th>\n      <th>start_hour</th>\n      <th>loyalty</th>\n      <th>loyal</th>\n      <th>country_iso_code</th>\n      <th>device_name</th>\n      <th>browser</th>\n      <th>os_name</th>\n      <th>refer_catg</th>\n      <th>refer_subCatg</th>\n      <th>pg_count</th>\n      <th>hit_evnt_cnt</th>\n      <th>hit_evnt_clicks</th>\n      <th>hit_evnt_forms</th>\n      <th>hit_evnt_ajax</th>\n    </tr>\n  </thead>\n  <tbody>\n    <tr>\n      <th>0</th>\n      <td>NaN</td>\n      <td>23</td>\n      <td>1</td>\n      <td>False</td>\n      <td>US</td>\n      <td>iPad</td>\n      <td>Chrome</td>\n      <td>NaN</td>\n      <td>Link</td>\n      <td>NaN</td>\n      <td>1</td>\n      <td>12</td>\n      <td>1</td>\n      <td>1</td>\n      <td>4</td>\n    </tr>\n    <tr>\n      <th>1</th>\n      <td>NaN</td>\n      <td>23</td>\n      <td>1</td>\n      <td>False</td>\n      <td>US</td>\n      <td>Macintosh</td>\n      <td>Chrome</td>\n      <td>macOS</td>\n      <td>Search</td>\n      <td>yahoo.com</td>\n      <td>1</td>\n      <td>11</td>\n      <td>1</td>\n      <td>1</td>\n      <td>3</td>\n    </tr>\n    <tr>\n      <th>2</th>\n      <td>NaN</td>\n      <td>23</td>\n      <td>1</td>\n      <td>False</td>\n      <td>US</td>\n      <td>Windows Desktop</td>\n      <td>Chrome</td>\n      <td>Windows 8.1</td>\n      <td>Social</td>\n      <td>facebook.com</td>\n      <td>1</td>\n      <td>8</td>\n      <td>1</td>\n      <td>1</td>\n      <td>4</td>\n    </tr>\n    <tr>\n      <th>3</th>\n      <td>NaN</td>\n      <td>23</td>\n      <td>1</td>\n      <td>False</td>\n      <td>US</td>\n      <td>iPad</td>\n      <td>Safari</td>\n      <td>NaN</td>\n      <td>Social</td>\n      <td>instagram.com</td>\n      <td>1</td>\n      <td>8</td>\n      <td>1</td>\n      <td>1</td>\n      <td>2</td>\n    </tr>\n    <tr>\n      <th>4</th>\n      <td>NaN</td>\n      <td>23</td>\n      <td>1</td>\n      <td>False</td>\n      <td>US</td>\n      <td>iPhone</td>\n      <td>Chrome</td>\n      <td>NaN</td>\n      <td>Social</td>\n      <td>instagram.com</td>\n      <td>1</td>\n      <td>11</td>\n      <td>1</td>\n      <td>1</td>\n      <td>3</td>\n    </tr>\n  </tbody>\n</table>\n</div>"
     },
     "metadata": {},
     "execution_count": 6
    }
   ],
   "source": [
    "# not choosing rtt_ms b.c. it has too many NaNs, not choosing engaged because it only has 1 value\n",
    "subset_df = df[['conv_rate', 'start_hour', 'loyalty', 'loyal', 'country_iso_code', 'device_name', 'browser', 'os_name', 'refer_catg', 'refer_subCatg', 'pg_count', 'hit_evnt_cnt', 'hit_evnt_clicks', 'hit_evnt_forms', 'hit_evnt_ajax']]\n",
    "subset_df.head()"
   ]
  },
  {
   "cell_type": "code",
   "execution_count": 7,
   "metadata": {},
   "outputs": [
    {
     "output_type": "execute_result",
     "data": {
      "text/plain": [
       "(2414594, 15)"
      ]
     },
     "metadata": {},
     "execution_count": 7
    }
   ],
   "source": [
    "subset_df.compute().shape"
   ]
  },
  {
   "source": [
    "# Initial data cleanup"
   ],
   "cell_type": "markdown",
   "metadata": {}
  },
  {
   "cell_type": "code",
   "execution_count": 8,
   "metadata": {},
   "outputs": [
    {
     "output_type": "execute_result",
     "data": {
      "text/plain": [
       "    conv_rate  start_hour  loyalty  loyal country_iso_code      device_name  \\\n",
       "1         0.0          23        1      0               US        macintosh   \n",
       "2         0.0          23        1      0               US  windows desktop   \n",
       "8         0.0          23        1      0               US    linux desktop   \n",
       "11        0.0          23        1      0               US        macintosh   \n",
       "12        0.0          23        1      0               US        macintosh   \n",
       "\n",
       "   browser      os_name refer_catg  refer_subCatg  pg_count  hit_evnt_cnt  \\\n",
       "1   chrome        macos     search      yahoo.com         1            11   \n",
       "2   chrome  windows 8.1     social   facebook.com         1             8   \n",
       "8   chrome        linux     search     google.com         1             6   \n",
       "11  chrome        macos     social  pinterest.com         1             6   \n",
       "12  chrome        macos     search      baidu.com         1             5   \n",
       "\n",
       "    hit_evnt_clicks  hit_evnt_forms  hit_evnt_ajax  \n",
       "1                 1               1              3  \n",
       "2                 1               1              4  \n",
       "8                 1               1              3  \n",
       "11                1               1              2  \n",
       "12                1               1              3  "
      ],
      "text/html": "<div>\n<style scoped>\n    .dataframe tbody tr th:only-of-type {\n        vertical-align: middle;\n    }\n\n    .dataframe tbody tr th {\n        vertical-align: top;\n    }\n\n    .dataframe thead th {\n        text-align: right;\n    }\n</style>\n<table border=\"1\" class=\"dataframe\">\n  <thead>\n    <tr style=\"text-align: right;\">\n      <th></th>\n      <th>conv_rate</th>\n      <th>start_hour</th>\n      <th>loyalty</th>\n      <th>loyal</th>\n      <th>country_iso_code</th>\n      <th>device_name</th>\n      <th>browser</th>\n      <th>os_name</th>\n      <th>refer_catg</th>\n      <th>refer_subCatg</th>\n      <th>pg_count</th>\n      <th>hit_evnt_cnt</th>\n      <th>hit_evnt_clicks</th>\n      <th>hit_evnt_forms</th>\n      <th>hit_evnt_ajax</th>\n    </tr>\n  </thead>\n  <tbody>\n    <tr>\n      <th>1</th>\n      <td>0.0</td>\n      <td>23</td>\n      <td>1</td>\n      <td>0</td>\n      <td>US</td>\n      <td>macintosh</td>\n      <td>chrome</td>\n      <td>macos</td>\n      <td>search</td>\n      <td>yahoo.com</td>\n      <td>1</td>\n      <td>11</td>\n      <td>1</td>\n      <td>1</td>\n      <td>3</td>\n    </tr>\n    <tr>\n      <th>2</th>\n      <td>0.0</td>\n      <td>23</td>\n      <td>1</td>\n      <td>0</td>\n      <td>US</td>\n      <td>windows desktop</td>\n      <td>chrome</td>\n      <td>windows 8.1</td>\n      <td>social</td>\n      <td>facebook.com</td>\n      <td>1</td>\n      <td>8</td>\n      <td>1</td>\n      <td>1</td>\n      <td>4</td>\n    </tr>\n    <tr>\n      <th>8</th>\n      <td>0.0</td>\n      <td>23</td>\n      <td>1</td>\n      <td>0</td>\n      <td>US</td>\n      <td>linux desktop</td>\n      <td>chrome</td>\n      <td>linux</td>\n      <td>search</td>\n      <td>google.com</td>\n      <td>1</td>\n      <td>6</td>\n      <td>1</td>\n      <td>1</td>\n      <td>3</td>\n    </tr>\n    <tr>\n      <th>11</th>\n      <td>0.0</td>\n      <td>23</td>\n      <td>1</td>\n      <td>0</td>\n      <td>US</td>\n      <td>macintosh</td>\n      <td>chrome</td>\n      <td>macos</td>\n      <td>social</td>\n      <td>pinterest.com</td>\n      <td>1</td>\n      <td>6</td>\n      <td>1</td>\n      <td>1</td>\n      <td>2</td>\n    </tr>\n    <tr>\n      <th>12</th>\n      <td>0.0</td>\n      <td>23</td>\n      <td>1</td>\n      <td>0</td>\n      <td>US</td>\n      <td>macintosh</td>\n      <td>chrome</td>\n      <td>macos</td>\n      <td>search</td>\n      <td>baidu.com</td>\n      <td>1</td>\n      <td>5</td>\n      <td>1</td>\n      <td>1</td>\n      <td>3</td>\n    </tr>\n  </tbody>\n</table>\n</div>"
     },
     "metadata": {},
     "execution_count": 8
    }
   ],
   "source": [
    "# set converion rates to 0 if originally NaN\n",
    "subset_df['conv_rate'] = subset_df['conv_rate'].fillna(0)\n",
    "subset_df = subset_df.dropna()\n",
    "\n",
    "## noticing some redundancies in OS types so need to lowercase os column\n",
    "subset_df['os_name'] = subset_df.os_name.apply(lambda x: x.lower())\n",
    "subset_df['device_name'] = subset_df.device_name.apply(lambda x: x.lower())\n",
    "subset_df['browser'] = subset_df.browser.apply(lambda x: x.lower())\n",
    "subset_df['refer_catg'] = subset_df.refer_catg.apply(lambda x: x.lower())\n",
    "subset_df['refer_subCatg'] = subset_df.refer_subCatg.apply(lambda x: x.lower())\n",
    "\n",
    "# convert booleans to numerical\n",
    "subset_df['loyal'] = subset_df.loyal.astype(int)\n",
    "\n",
    "subset_df.head()"
   ]
  },
  {
   "cell_type": "code",
   "execution_count": 9,
   "metadata": {},
   "outputs": [
    {
     "output_type": "execute_result",
     "data": {
      "text/plain": [
       "          conv_rate    start_hour       loyalty         loyal      pg_count  \\\n",
       "count  1.435733e+06  1.435733e+06  1.435733e+06  1.435733e+06  1.435733e+06   \n",
       "mean   4.512901e+03  1.209896e+01  1.121039e+00  5.479222e-02  5.554950e+00   \n",
       "std    2.323651e+04  6.864304e+00  3.092361e+00  2.275743e-01  3.918382e+00   \n",
       "min    0.000000e+00  0.000000e+00  1.000000e+00  0.000000e+00  1.000000e+00   \n",
       "25%    0.000000e+00  6.000000e+00  1.000000e+00  0.000000e+00  1.000000e+00   \n",
       "50%    0.000000e+00  1.300000e+01  1.000000e+00  0.000000e+00  5.000000e+00   \n",
       "75%    0.000000e+00  1.800000e+01  1.000000e+00  0.000000e+00  9.000000e+00   \n",
       "max    3.309960e+05  2.300000e+01  2.910000e+02  1.000000e+00  2.500000e+01   \n",
       "\n",
       "       hit_evnt_cnt  hit_evnt_clicks  hit_evnt_forms  hit_evnt_ajax  \n",
       "count  1.435733e+06     1.435733e+06    1.435733e+06   1.435733e+06  \n",
       "mean   2.306046e+01     1.630660e+01    6.060232e+00   1.203214e+01  \n",
       "std    1.523124e+01     1.596434e+01    4.491721e+00   7.472736e+00  \n",
       "min    1.000000e+00     1.000000e+00    1.000000e+00   1.000000e+00  \n",
       "25%    7.000000e+00     1.000000e+00    1.000000e+00   5.000000e+00  \n",
       "50%    2.500000e+01     1.300000e+01    5.000000e+00   1.300000e+01  \n",
       "75%    3.400000e+01     2.700000e+01    1.000000e+01   1.700000e+01  \n",
       "max    1.090000e+02     1.350000e+02    2.700000e+01   6.000000e+01  "
      ],
      "text/html": "<div>\n<style scoped>\n    .dataframe tbody tr th:only-of-type {\n        vertical-align: middle;\n    }\n\n    .dataframe tbody tr th {\n        vertical-align: top;\n    }\n\n    .dataframe thead th {\n        text-align: right;\n    }\n</style>\n<table border=\"1\" class=\"dataframe\">\n  <thead>\n    <tr style=\"text-align: right;\">\n      <th></th>\n      <th>conv_rate</th>\n      <th>start_hour</th>\n      <th>loyalty</th>\n      <th>loyal</th>\n      <th>pg_count</th>\n      <th>hit_evnt_cnt</th>\n      <th>hit_evnt_clicks</th>\n      <th>hit_evnt_forms</th>\n      <th>hit_evnt_ajax</th>\n    </tr>\n  </thead>\n  <tbody>\n    <tr>\n      <th>count</th>\n      <td>1.435733e+06</td>\n      <td>1.435733e+06</td>\n      <td>1.435733e+06</td>\n      <td>1.435733e+06</td>\n      <td>1.435733e+06</td>\n      <td>1.435733e+06</td>\n      <td>1.435733e+06</td>\n      <td>1.435733e+06</td>\n      <td>1.435733e+06</td>\n    </tr>\n    <tr>\n      <th>mean</th>\n      <td>4.512901e+03</td>\n      <td>1.209896e+01</td>\n      <td>1.121039e+00</td>\n      <td>5.479222e-02</td>\n      <td>5.554950e+00</td>\n      <td>2.306046e+01</td>\n      <td>1.630660e+01</td>\n      <td>6.060232e+00</td>\n      <td>1.203214e+01</td>\n    </tr>\n    <tr>\n      <th>std</th>\n      <td>2.323651e+04</td>\n      <td>6.864304e+00</td>\n      <td>3.092361e+00</td>\n      <td>2.275743e-01</td>\n      <td>3.918382e+00</td>\n      <td>1.523124e+01</td>\n      <td>1.596434e+01</td>\n      <td>4.491721e+00</td>\n      <td>7.472736e+00</td>\n    </tr>\n    <tr>\n      <th>min</th>\n      <td>0.000000e+00</td>\n      <td>0.000000e+00</td>\n      <td>1.000000e+00</td>\n      <td>0.000000e+00</td>\n      <td>1.000000e+00</td>\n      <td>1.000000e+00</td>\n      <td>1.000000e+00</td>\n      <td>1.000000e+00</td>\n      <td>1.000000e+00</td>\n    </tr>\n    <tr>\n      <th>25%</th>\n      <td>0.000000e+00</td>\n      <td>6.000000e+00</td>\n      <td>1.000000e+00</td>\n      <td>0.000000e+00</td>\n      <td>1.000000e+00</td>\n      <td>7.000000e+00</td>\n      <td>1.000000e+00</td>\n      <td>1.000000e+00</td>\n      <td>5.000000e+00</td>\n    </tr>\n    <tr>\n      <th>50%</th>\n      <td>0.000000e+00</td>\n      <td>1.300000e+01</td>\n      <td>1.000000e+00</td>\n      <td>0.000000e+00</td>\n      <td>5.000000e+00</td>\n      <td>2.500000e+01</td>\n      <td>1.300000e+01</td>\n      <td>5.000000e+00</td>\n      <td>1.300000e+01</td>\n    </tr>\n    <tr>\n      <th>75%</th>\n      <td>0.000000e+00</td>\n      <td>1.800000e+01</td>\n      <td>1.000000e+00</td>\n      <td>0.000000e+00</td>\n      <td>9.000000e+00</td>\n      <td>3.400000e+01</td>\n      <td>2.700000e+01</td>\n      <td>1.000000e+01</td>\n      <td>1.700000e+01</td>\n    </tr>\n    <tr>\n      <th>max</th>\n      <td>3.309960e+05</td>\n      <td>2.300000e+01</td>\n      <td>2.910000e+02</td>\n      <td>1.000000e+00</td>\n      <td>2.500000e+01</td>\n      <td>1.090000e+02</td>\n      <td>1.350000e+02</td>\n      <td>2.700000e+01</td>\n      <td>6.000000e+01</td>\n    </tr>\n  </tbody>\n</table>\n</div>"
     },
     "metadata": {},
     "execution_count": 9
    }
   ],
   "source": [
    "subset_df.compute().describe()"
   ]
  },
  {
   "source": [
    "# Encode categorical data with OneHot encodings"
   ],
   "cell_type": "markdown",
   "metadata": {}
  },
  {
   "cell_type": "code",
   "execution_count": 10,
   "metadata": {},
   "outputs": [
    {
     "output_type": "execute_result",
     "data": {
      "text/plain": [
       "    conv_rate  start_hour  loyalty  loyal  pg_count  hit_evnt_cnt  \\\n",
       "1         0.0          23        1      0         1            11   \n",
       "2         0.0          23        1      0         1             8   \n",
       "8         0.0          23        1      0         1             6   \n",
       "11        0.0          23        1      0         1             6   \n",
       "12        0.0          23        1      0         1             5   \n",
       "\n",
       "    hit_evnt_clicks  hit_evnt_forms  hit_evnt_ajax  (BR,)  ...  (social,)  \\\n",
       "1                 1               1              3    0.0  ...        1.0   \n",
       "2                 1               1              4    0.0  ...        0.0   \n",
       "8                 1               1              3    0.0  ...        1.0   \n",
       "11                1               1              2    0.0  ...        0.0   \n",
       "12                1               1              3    0.0  ...        1.0   \n",
       "\n",
       "    (ask.com,)  (baidu.com,)  (bing.com,)  (duckduckgo.com,)  (facebook.com,)  \\\n",
       "1          0.0           0.0          0.0                0.0              1.0   \n",
       "2          0.0           0.0          0.0                0.0              0.0   \n",
       "8          0.0           0.0          0.0                0.0              0.0   \n",
       "11         0.0           0.0          0.0                0.0              0.0   \n",
       "12         0.0           0.0          0.0                0.0              0.0   \n",
       "\n",
       "    (google.com,)  (instagram.com,)  (pinterest.com,)  (yahoo.com,)  \n",
       "1             0.0               0.0               0.0           0.0  \n",
       "2             1.0               0.0               0.0           0.0  \n",
       "8             0.0               0.0               1.0           0.0  \n",
       "11            1.0               0.0               0.0           0.0  \n",
       "12            0.0               1.0               0.0           0.0  \n",
       "\n",
       "[5 rows x 73 columns]"
      ],
      "text/html": "<div>\n<style scoped>\n    .dataframe tbody tr th:only-of-type {\n        vertical-align: middle;\n    }\n\n    .dataframe tbody tr th {\n        vertical-align: top;\n    }\n\n    .dataframe thead th {\n        text-align: right;\n    }\n</style>\n<table border=\"1\" class=\"dataframe\">\n  <thead>\n    <tr style=\"text-align: right;\">\n      <th></th>\n      <th>conv_rate</th>\n      <th>start_hour</th>\n      <th>loyalty</th>\n      <th>loyal</th>\n      <th>pg_count</th>\n      <th>hit_evnt_cnt</th>\n      <th>hit_evnt_clicks</th>\n      <th>hit_evnt_forms</th>\n      <th>hit_evnt_ajax</th>\n      <th>(BR,)</th>\n      <th>...</th>\n      <th>(social,)</th>\n      <th>(ask.com,)</th>\n      <th>(baidu.com,)</th>\n      <th>(bing.com,)</th>\n      <th>(duckduckgo.com,)</th>\n      <th>(facebook.com,)</th>\n      <th>(google.com,)</th>\n      <th>(instagram.com,)</th>\n      <th>(pinterest.com,)</th>\n      <th>(yahoo.com,)</th>\n    </tr>\n  </thead>\n  <tbody>\n    <tr>\n      <th>1</th>\n      <td>0.0</td>\n      <td>23</td>\n      <td>1</td>\n      <td>0</td>\n      <td>1</td>\n      <td>11</td>\n      <td>1</td>\n      <td>1</td>\n      <td>3</td>\n      <td>0.0</td>\n      <td>...</td>\n      <td>1.0</td>\n      <td>0.0</td>\n      <td>0.0</td>\n      <td>0.0</td>\n      <td>0.0</td>\n      <td>1.0</td>\n      <td>0.0</td>\n      <td>0.0</td>\n      <td>0.0</td>\n      <td>0.0</td>\n    </tr>\n    <tr>\n      <th>2</th>\n      <td>0.0</td>\n      <td>23</td>\n      <td>1</td>\n      <td>0</td>\n      <td>1</td>\n      <td>8</td>\n      <td>1</td>\n      <td>1</td>\n      <td>4</td>\n      <td>0.0</td>\n      <td>...</td>\n      <td>0.0</td>\n      <td>0.0</td>\n      <td>0.0</td>\n      <td>0.0</td>\n      <td>0.0</td>\n      <td>0.0</td>\n      <td>1.0</td>\n      <td>0.0</td>\n      <td>0.0</td>\n      <td>0.0</td>\n    </tr>\n    <tr>\n      <th>8</th>\n      <td>0.0</td>\n      <td>23</td>\n      <td>1</td>\n      <td>0</td>\n      <td>1</td>\n      <td>6</td>\n      <td>1</td>\n      <td>1</td>\n      <td>3</td>\n      <td>0.0</td>\n      <td>...</td>\n      <td>1.0</td>\n      <td>0.0</td>\n      <td>0.0</td>\n      <td>0.0</td>\n      <td>0.0</td>\n      <td>0.0</td>\n      <td>0.0</td>\n      <td>0.0</td>\n      <td>1.0</td>\n      <td>0.0</td>\n    </tr>\n    <tr>\n      <th>11</th>\n      <td>0.0</td>\n      <td>23</td>\n      <td>1</td>\n      <td>0</td>\n      <td>1</td>\n      <td>6</td>\n      <td>1</td>\n      <td>1</td>\n      <td>2</td>\n      <td>0.0</td>\n      <td>...</td>\n      <td>0.0</td>\n      <td>0.0</td>\n      <td>0.0</td>\n      <td>0.0</td>\n      <td>0.0</td>\n      <td>0.0</td>\n      <td>1.0</td>\n      <td>0.0</td>\n      <td>0.0</td>\n      <td>0.0</td>\n    </tr>\n    <tr>\n      <th>12</th>\n      <td>0.0</td>\n      <td>23</td>\n      <td>1</td>\n      <td>0</td>\n      <td>1</td>\n      <td>5</td>\n      <td>1</td>\n      <td>1</td>\n      <td>3</td>\n      <td>0.0</td>\n      <td>...</td>\n      <td>1.0</td>\n      <td>0.0</td>\n      <td>0.0</td>\n      <td>0.0</td>\n      <td>0.0</td>\n      <td>0.0</td>\n      <td>0.0</td>\n      <td>1.0</td>\n      <td>0.0</td>\n      <td>0.0</td>\n    </tr>\n  </tbody>\n</table>\n<p>5 rows × 73 columns</p>\n</div>"
     },
     "metadata": {},
     "execution_count": 10
    }
   ],
   "source": [
    "subset_df = helper_fns.perform_one_hot_encoding(subset_df, 'country_iso_code')\n",
    "subset_df = helper_fns.perform_one_hot_encoding(subset_df, 'device_name')\n",
    "subset_df = helper_fns.perform_one_hot_encoding(subset_df, 'browser')\n",
    "subset_df = helper_fns.perform_one_hot_encoding(subset_df, 'refer_catg')\n",
    "subset_df = helper_fns.perform_one_hot_encoding(subset_df, 'refer_subCatg')\n",
    "subset_df = subset_df.drop(columns=['os_name', 'country_iso_code', 'device_name', 'browser', 'refer_catg', 'refer_subCatg'])\n",
    "\n",
    "subset_df.head()"
   ]
  },
  {
   "source": [
    "# Save dataset for future, more efficient, model development and analysis"
   ],
   "cell_type": "markdown",
   "metadata": {}
  },
  {
   "cell_type": "code",
   "execution_count": 11,
   "metadata": {},
   "outputs": [],
   "source": [
    "subset_df.compute().to_csv('session_data_v2_cleaned.csv', index=False)"
   ]
  }
 ]
}