{
 "metadata": {
  "language_info": {
   "codemirror_mode": {
    "name": "ipython",
    "version": 3
   },
   "file_extension": ".py",
   "mimetype": "text/x-python",
   "name": "python",
   "nbconvert_exporter": "python",
   "pygments_lexer": "ipython3",
   "version": 3
  },
  "orig_nbformat": 2
 },
 "nbformat": 4,
 "nbformat_minor": 2,
 "cells": [
  {
   "source": [
    "# Problem Statement\n",
    "\n",
    "## ***\"The overall objective will be to create an anomaly detection system that will alert a user when a metric is anomalous.\"***\n",
    "\n",
    "## ***\"How that is defined, what metric you choose, and what software you use is up to you.\"***\n",
    "\n",
    "\n",
    "\n",
    "### ***\"Using the transformed data, provide a model that helps predict anomalies based on any aggregatable measure/metric in our data.  This may be something like conversion rate, sum of revenue, or another such metric you think may be valuable.  As you will see, there is a large number of features that can be used to predict anomalies - please consider dimensionality reduction as part of your model (PCA, FA, etc), and explain why this is your approach.\"***\n",
    "\n",
    "\n",
    "\n",
    "\n",
    "\n",
    "\n"
   ],
   "cell_type": "markdown",
   "metadata": {}
  },
  {
   "source": [
    "# Intial Data Exploration via BigQuery\n",
    "\n",
    "- Data includes Session data related to user, device, os, location, and the referrer\n",
    "    - also includes some summary stats related to conversion value and engagement\n",
    "- For each session, data contains pages visited and its respective details such as general behavior on that page\n",
    "    - also includes a collection of all events that occured on that page, detailing the event along with whether that event was considered a conversion \n",
    "    - also includes a collection of all the forms that were filled out on the page, detailing time to fill out those forms\n",
    "    - also includes a collection of all clicks that occurred on the page"
   ],
   "cell_type": "markdown",
   "metadata": {}
  },
  {
   "source": [
    "# Ideation\n",
    "\n",
    "## Anomalies can be used to detect unusual behavior and subsequently instigate further inspection\n",
    "\n",
    "### Ideas around anomaly detection use cases (Per Session): [notebook](file://./session_analysis.ipynb)\n",
    "1. Session behavior anomalies\n",
    "    - intention: to detect, classify, and understand common session-wise behaviors \n",
    "    - questions: \n",
    "        1. how many session behavior modalities are there?\n",
    "        2. is there a cluster more likely to have conversions? (if so, perhaps its valuable to subsequently look at common traits)        \n",
    "        3. are there other metrics that would be valuable to understand?\n",
    "    - method: unsupervised learning, specifically k-means clustering to find common patterns of behavior     \n",
    "2. Model to predict conversions\n",
    "    - intention: \n",
    "        1. to see how well a model can predict conversion rate\n",
    "        2. to see how particular features contribute to conversion rate    \n",
    "    - method: simple linear regression\n",
    "        1. anomalies would then be identified by its error\n",
    "\n",
    "### Uses cases for anomaly detection(Per page):\n",
    "- Bot Detection\n",
    "    - intention: detect bots\n",
    "    - questions:\n",
    "        1. are there \\[sufficient\\] bots visible in the data set currently?\n",
    "        2. what does the distribution of a avg-form-fill-time look like?        \n",
    "    - method: utilize unsupervised learning to detect outliers related to time taken for a session to fill out forms    \n",
    "- Page behavior anomalies\n",
    "    - intention to detect potentially negative UX issues\n",
    "    - ex) latency, num of ajax calls, data transferred, num of events\n",
    "- (stretch goal) Per-page anomalies?\n",
    "\n"
   ],
   "cell_type": "markdown",
   "metadata": {}
  },
  {
   "cell_type": "code",
   "execution_count": null,
   "metadata": {},
   "outputs": [],
   "source": []
  },
  {
   "cell_type": "code",
   "execution_count": null,
   "metadata": {},
   "outputs": [],
   "source": []
  }
 ]
}