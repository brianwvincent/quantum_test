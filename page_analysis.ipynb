{
 "metadata": {
  "language_info": {
   "codemirror_mode": {
    "name": "ipython",
    "version": 3
   },
   "file_extension": ".py",
   "mimetype": "text/x-python",
   "name": "python",
   "nbconvert_exporter": "python",
   "pygments_lexer": "ipython3",
   "version": "3.9.1-final"
  },
  "orig_nbformat": 2,
  "kernelspec": {
   "name": "python3",
   "display_name": "Python 3.9.1 64-bit",
   "metadata": {
    "interpreter": {
     "hash": "859ac159723c08ac16fb645312cc11d984f59a6ad572b85b4d1d3812d8c8ece0"
    }
   }
  }
 },
 "nbformat": 4,
 "nbformat_minor": 2,
 "cells": [
  {
   "source": [
    "# Page Analysis"
   ],
   "cell_type": "markdown",
   "metadata": {}
  },
  {
   "cell_type": "code",
   "execution_count": 1,
   "metadata": {},
   "outputs": [],
   "source": [
    "import pandas as pd\n",
    "import dask.dataframe as ddf\n",
    "import seaborn as sbn\n",
    "import matplotlib.pyplot as plt\n",
    "from sklearn.preprocessing import OneHotEncoder\n",
    "import helper_fns\n",
    "%matplotlib inline"
   ]
  },
  {
   "source": [
    "# Initial data exploration"
   ],
   "cell_type": "markdown",
   "metadata": {}
  },
  {
   "cell_type": "code",
   "execution_count": 2,
   "metadata": {},
   "outputs": [
    {
     "output_type": "execute_result",
     "data": {
      "text/plain": [
       "         id  sess_id  attn_10  attn_20  attn_30  attn_40  attn_50  attn_60  \\\n",
       "0  21995205  3077876      NaN      NaN      NaN      NaN      NaN      NaN   \n",
       "1  21994704  3077742     49.0     17.0      0.0     17.0      0.0     17.0   \n",
       "2  21994274  3077634    100.0    100.0    100.0    100.0    100.0    100.0   \n",
       "3  21994351  3077664     73.0    100.0    100.0    100.0    100.0    100.0   \n",
       "4  21996192  3078118     39.0     81.0     81.0     81.0     81.0    100.0   \n",
       "\n",
       "   attn_70  attn_80  ...          domain  domain_id  ajax_reqs  num_events  \\\n",
       "0      NaN      NaN  ...             NaN          1          4           4   \n",
       "1     17.0      0.0  ...  www.google.com          9          6           4   \n",
       "2    100.0    100.0  ...  www.google.com          9          6           5   \n",
       "3    100.0    100.0  ...  www.google.com          9          6           5   \n",
       "4     19.0     19.0  ...  www.google.com          9          5           5   \n",
       "\n",
       "   num_forms  avg_form_fill_s  avg_time2click_ms  conversion_count  \\\n",
       "0          0              NaN                NaN                 0   \n",
       "1          0              NaN                NaN                 0   \n",
       "2          0              NaN                NaN                 0   \n",
       "3          0              NaN                NaN                 0   \n",
       "4          0              NaN                NaN                 0   \n",
       "\n",
       "  conversion_value  conv_rate  \n",
       "0                0        NaN  \n",
       "1                0        NaN  \n",
       "2                0        NaN  \n",
       "3                0        NaN  \n",
       "4                0        NaN  \n",
       "\n",
       "[5 rows x 28 columns]"
      ],
      "text/html": "<div>\n<style scoped>\n    .dataframe tbody tr th:only-of-type {\n        vertical-align: middle;\n    }\n\n    .dataframe tbody tr th {\n        vertical-align: top;\n    }\n\n    .dataframe thead th {\n        text-align: right;\n    }\n</style>\n<table border=\"1\" class=\"dataframe\">\n  <thead>\n    <tr style=\"text-align: right;\">\n      <th></th>\n      <th>id</th>\n      <th>sess_id</th>\n      <th>attn_10</th>\n      <th>attn_20</th>\n      <th>attn_30</th>\n      <th>attn_40</th>\n      <th>attn_50</th>\n      <th>attn_60</th>\n      <th>attn_70</th>\n      <th>attn_80</th>\n      <th>...</th>\n      <th>domain</th>\n      <th>domain_id</th>\n      <th>ajax_reqs</th>\n      <th>num_events</th>\n      <th>num_forms</th>\n      <th>avg_form_fill_s</th>\n      <th>avg_time2click_ms</th>\n      <th>conversion_count</th>\n      <th>conversion_value</th>\n      <th>conv_rate</th>\n    </tr>\n  </thead>\n  <tbody>\n    <tr>\n      <th>0</th>\n      <td>21995205</td>\n      <td>3077876</td>\n      <td>NaN</td>\n      <td>NaN</td>\n      <td>NaN</td>\n      <td>NaN</td>\n      <td>NaN</td>\n      <td>NaN</td>\n      <td>NaN</td>\n      <td>NaN</td>\n      <td>...</td>\n      <td>NaN</td>\n      <td>1</td>\n      <td>4</td>\n      <td>4</td>\n      <td>0</td>\n      <td>NaN</td>\n      <td>NaN</td>\n      <td>0</td>\n      <td>0</td>\n      <td>NaN</td>\n    </tr>\n    <tr>\n      <th>1</th>\n      <td>21994704</td>\n      <td>3077742</td>\n      <td>49.0</td>\n      <td>17.0</td>\n      <td>0.0</td>\n      <td>17.0</td>\n      <td>0.0</td>\n      <td>17.0</td>\n      <td>17.0</td>\n      <td>0.0</td>\n      <td>...</td>\n      <td>www.google.com</td>\n      <td>9</td>\n      <td>6</td>\n      <td>4</td>\n      <td>0</td>\n      <td>NaN</td>\n      <td>NaN</td>\n      <td>0</td>\n      <td>0</td>\n      <td>NaN</td>\n    </tr>\n    <tr>\n      <th>2</th>\n      <td>21994274</td>\n      <td>3077634</td>\n      <td>100.0</td>\n      <td>100.0</td>\n      <td>100.0</td>\n      <td>100.0</td>\n      <td>100.0</td>\n      <td>100.0</td>\n      <td>100.0</td>\n      <td>100.0</td>\n      <td>...</td>\n      <td>www.google.com</td>\n      <td>9</td>\n      <td>6</td>\n      <td>5</td>\n      <td>0</td>\n      <td>NaN</td>\n      <td>NaN</td>\n      <td>0</td>\n      <td>0</td>\n      <td>NaN</td>\n    </tr>\n    <tr>\n      <th>3</th>\n      <td>21994351</td>\n      <td>3077664</td>\n      <td>73.0</td>\n      <td>100.0</td>\n      <td>100.0</td>\n      <td>100.0</td>\n      <td>100.0</td>\n      <td>100.0</td>\n      <td>100.0</td>\n      <td>100.0</td>\n      <td>...</td>\n      <td>www.google.com</td>\n      <td>9</td>\n      <td>6</td>\n      <td>5</td>\n      <td>0</td>\n      <td>NaN</td>\n      <td>NaN</td>\n      <td>0</td>\n      <td>0</td>\n      <td>NaN</td>\n    </tr>\n    <tr>\n      <th>4</th>\n      <td>21996192</td>\n      <td>3078118</td>\n      <td>39.0</td>\n      <td>81.0</td>\n      <td>81.0</td>\n      <td>81.0</td>\n      <td>81.0</td>\n      <td>100.0</td>\n      <td>19.0</td>\n      <td>19.0</td>\n      <td>...</td>\n      <td>www.google.com</td>\n      <td>9</td>\n      <td>5</td>\n      <td>5</td>\n      <td>0</td>\n      <td>NaN</td>\n      <td>NaN</td>\n      <td>0</td>\n      <td>0</td>\n      <td>NaN</td>\n    </tr>\n  </tbody>\n</table>\n<p>5 rows × 28 columns</p>\n</div>"
     },
     "metadata": {},
     "execution_count": 2
    }
   ],
   "source": [
    "df = ddf.read_csv('page_data_v2.csv')\n",
    "df.head()"
   ]
  },
  {
   "cell_type": "code",
   "execution_count": 3,
   "metadata": {},
   "outputs": [
    {
     "output_type": "execute_result",
     "data": {
      "text/plain": [
       "Index(['id', 'sess_id', 'attn_10', 'attn_20', 'attn_30', 'attn_40', 'attn_50',\n",
       "       'attn_60', 'attn_70', 'attn_80', 'attn_90', 'attn_100', 'clicks',\n",
       "       'engaged_seconds', 'max_scroll', 'url_id', 'category', 'category_id',\n",
       "       'domain', 'domain_id', 'ajax_reqs', 'num_events', 'num_forms',\n",
       "       'avg_form_fill_s', 'avg_time2click_ms', 'conversion_count',\n",
       "       'conversion_value', 'conv_rate'],\n",
       "      dtype='object')"
      ]
     },
     "metadata": {},
     "execution_count": 3
    }
   ],
   "source": [
    "df.columns"
   ]
  },
  {
   "cell_type": "code",
   "execution_count": 4,
   "metadata": {},
   "outputs": [
    {
     "output_type": "execute_result",
     "data": {
      "text/plain": [
       "(2400000, 28)"
      ]
     },
     "metadata": {},
     "execution_count": 4
    }
   ],
   "source": [
    "df.compute().shape"
   ]
  },
  {
   "cell_type": "code",
   "execution_count": 5,
   "metadata": {},
   "outputs": [
    {
     "output_type": "stream",
     "name": "stdout",
     "text": [
      "1 unique referral categories: [nan]\n",
      "35 unique domains: [nan 'www.google.com' 'www.bing.com' 'www.yahoo.com' 'www.live.com'\n",
      " 'instagram.com' 'www.retailmenot.com' 'facebook.com' 'rdi.criteo.com'\n",
      " 'pinterest.com' 'www.youtube.com' 'www.ask.com' 'm.youtube.com'\n",
      " 'snapchat.com' 'www.duckduckgo.com' 'www.baidu.com'\n",
      " 'www.quinnandmurray.com' 'www.trafficsafe.net' 'portal.opinionlab.com'\n",
      " 'quantummetric.atlassian.net' 'quinnandmurray.com'\n",
      " 'www.quartermanfinancial.com' 'qpartnerdev.co1.qualtrics.com' 'localhost'\n",
      " 'r.search.yahoo.com' 'app.segment.com' 'oo.opinionlab.com'\n",
      " 'www.vistaprint.com' 'www.aa.com' 'www.aavacations.com'\n",
      " 'www.vistaprint.ie' 'nebula.kampyle.com' 'quartermanfinancial.com'\n",
      " 'app.optimizely.com' 'quarterman.quantummetric.com']\n"
     ]
    }
   ],
   "source": [
    "# exploring some of the categorical features\n",
    "print('{} unique referral categories: {}'.format(len(df.category.compute().unique()), df.category.compute().unique()))\n",
    "print('{} unique domains: {}'.format(len(df.domain.compute().unique()), df.domain.compute().unique()))"
   ]
  },
  {
   "source": [
    "# Select columns we want to use"
   ],
   "cell_type": "markdown",
   "metadata": {}
  },
  {
   "cell_type": "code",
   "execution_count": 6,
   "metadata": {},
   "outputs": [
    {
     "output_type": "execute_result",
     "data": {
      "text/plain": [
       "   conv_rate  attn_10  attn_20  attn_30  attn_40  attn_50  attn_60  attn_70  \\\n",
       "0        NaN      NaN      NaN      NaN      NaN      NaN      NaN      NaN   \n",
       "1        NaN     49.0     17.0      0.0     17.0      0.0     17.0     17.0   \n",
       "2        NaN    100.0    100.0    100.0    100.0    100.0    100.0    100.0   \n",
       "3        NaN     73.0    100.0    100.0    100.0    100.0    100.0    100.0   \n",
       "4        NaN     39.0     81.0     81.0     81.0     81.0    100.0     19.0   \n",
       "\n",
       "   attn_80  attn_90  attn_100  clicks  engaged_seconds  max_scroll  \\\n",
       "0      NaN      NaN       NaN       0                0         NaN   \n",
       "1      0.0      0.0      17.0       0               10       100.0   \n",
       "2    100.0    100.0     100.0       0                6       100.0   \n",
       "3    100.0    100.0      76.0       0                8       100.0   \n",
       "4     19.0     19.0      19.0       0               10        60.0   \n",
       "\n",
       "           domain  ajax_reqs  num_events  num_forms  avg_form_fill_s  \\\n",
       "0             NaN          4           4          0              NaN   \n",
       "1  www.google.com          6           4          0              NaN   \n",
       "2  www.google.com          6           5          0              NaN   \n",
       "3  www.google.com          6           5          0              NaN   \n",
       "4  www.google.com          5           5          0              NaN   \n",
       "\n",
       "   avg_time2click_ms  \n",
       "0                NaN  \n",
       "1                NaN  \n",
       "2                NaN  \n",
       "3                NaN  \n",
       "4                NaN  "
      ],
      "text/html": "<div>\n<style scoped>\n    .dataframe tbody tr th:only-of-type {\n        vertical-align: middle;\n    }\n\n    .dataframe tbody tr th {\n        vertical-align: top;\n    }\n\n    .dataframe thead th {\n        text-align: right;\n    }\n</style>\n<table border=\"1\" class=\"dataframe\">\n  <thead>\n    <tr style=\"text-align: right;\">\n      <th></th>\n      <th>conv_rate</th>\n      <th>attn_10</th>\n      <th>attn_20</th>\n      <th>attn_30</th>\n      <th>attn_40</th>\n      <th>attn_50</th>\n      <th>attn_60</th>\n      <th>attn_70</th>\n      <th>attn_80</th>\n      <th>attn_90</th>\n      <th>attn_100</th>\n      <th>clicks</th>\n      <th>engaged_seconds</th>\n      <th>max_scroll</th>\n      <th>domain</th>\n      <th>ajax_reqs</th>\n      <th>num_events</th>\n      <th>num_forms</th>\n      <th>avg_form_fill_s</th>\n      <th>avg_time2click_ms</th>\n    </tr>\n  </thead>\n  <tbody>\n    <tr>\n      <th>0</th>\n      <td>NaN</td>\n      <td>NaN</td>\n      <td>NaN</td>\n      <td>NaN</td>\n      <td>NaN</td>\n      <td>NaN</td>\n      <td>NaN</td>\n      <td>NaN</td>\n      <td>NaN</td>\n      <td>NaN</td>\n      <td>NaN</td>\n      <td>0</td>\n      <td>0</td>\n      <td>NaN</td>\n      <td>NaN</td>\n      <td>4</td>\n      <td>4</td>\n      <td>0</td>\n      <td>NaN</td>\n      <td>NaN</td>\n    </tr>\n    <tr>\n      <th>1</th>\n      <td>NaN</td>\n      <td>49.0</td>\n      <td>17.0</td>\n      <td>0.0</td>\n      <td>17.0</td>\n      <td>0.0</td>\n      <td>17.0</td>\n      <td>17.0</td>\n      <td>0.0</td>\n      <td>0.0</td>\n      <td>17.0</td>\n      <td>0</td>\n      <td>10</td>\n      <td>100.0</td>\n      <td>www.google.com</td>\n      <td>6</td>\n      <td>4</td>\n      <td>0</td>\n      <td>NaN</td>\n      <td>NaN</td>\n    </tr>\n    <tr>\n      <th>2</th>\n      <td>NaN</td>\n      <td>100.0</td>\n      <td>100.0</td>\n      <td>100.0</td>\n      <td>100.0</td>\n      <td>100.0</td>\n      <td>100.0</td>\n      <td>100.0</td>\n      <td>100.0</td>\n      <td>100.0</td>\n      <td>100.0</td>\n      <td>0</td>\n      <td>6</td>\n      <td>100.0</td>\n      <td>www.google.com</td>\n      <td>6</td>\n      <td>5</td>\n      <td>0</td>\n      <td>NaN</td>\n      <td>NaN</td>\n    </tr>\n    <tr>\n      <th>3</th>\n      <td>NaN</td>\n      <td>73.0</td>\n      <td>100.0</td>\n      <td>100.0</td>\n      <td>100.0</td>\n      <td>100.0</td>\n      <td>100.0</td>\n      <td>100.0</td>\n      <td>100.0</td>\n      <td>100.0</td>\n      <td>76.0</td>\n      <td>0</td>\n      <td>8</td>\n      <td>100.0</td>\n      <td>www.google.com</td>\n      <td>6</td>\n      <td>5</td>\n      <td>0</td>\n      <td>NaN</td>\n      <td>NaN</td>\n    </tr>\n    <tr>\n      <th>4</th>\n      <td>NaN</td>\n      <td>39.0</td>\n      <td>81.0</td>\n      <td>81.0</td>\n      <td>81.0</td>\n      <td>81.0</td>\n      <td>100.0</td>\n      <td>19.0</td>\n      <td>19.0</td>\n      <td>19.0</td>\n      <td>19.0</td>\n      <td>0</td>\n      <td>10</td>\n      <td>60.0</td>\n      <td>www.google.com</td>\n      <td>5</td>\n      <td>5</td>\n      <td>0</td>\n      <td>NaN</td>\n      <td>NaN</td>\n    </tr>\n  </tbody>\n</table>\n</div>"
     },
     "metadata": {},
     "execution_count": 6
    }
   ],
   "source": [
    "# not choosing rtt_ms b.c. it has too many NaNs, not choosing engaged because it only has 1 value\n",
    "subset_df = df[['conv_rate','attn_10', 'attn_20', 'attn_30', 'attn_40', 'attn_50', 'attn_60', 'attn_70', 'attn_80', 'attn_90', 'attn_100', 'clicks',\n",
    "                'engaged_seconds', 'max_scroll', 'domain', 'ajax_reqs', 'num_events', 'num_forms', 'avg_form_fill_s', 'avg_time2click_ms']]\n",
    "subset_df.head()"
   ]
  },
  {
   "cell_type": "code",
   "execution_count": 7,
   "metadata": {},
   "outputs": [
    {
     "output_type": "execute_result",
     "data": {
      "text/plain": [
       "(2400000, 20)"
      ]
     },
     "metadata": {},
     "execution_count": 7
    }
   ],
   "source": [
    "subset_df.compute().shape"
   ]
  },
  {
   "source": [
    "# Initial data cleanup"
   ],
   "cell_type": "markdown",
   "metadata": {}
  },
  {
   "cell_type": "code",
   "execution_count": 8,
   "metadata": {},
   "outputs": [
    {
     "output_type": "execute_result",
     "data": {
      "text/plain": [
       "   conv_rate  attn_10  attn_20  attn_30  attn_40  attn_50  attn_60  attn_70  \\\n",
       "1        0.0     49.0     17.0      0.0     17.0      0.0     17.0     17.0   \n",
       "2        0.0    100.0    100.0    100.0    100.0    100.0    100.0    100.0   \n",
       "3        0.0     73.0    100.0    100.0    100.0    100.0    100.0    100.0   \n",
       "4        0.0     39.0     81.0     81.0     81.0     81.0    100.0     19.0   \n",
       "5        0.0     51.0     82.0     82.0     82.0    100.0    100.0    100.0   \n",
       "\n",
       "   attn_80  attn_90  attn_100  clicks  engaged_seconds  max_scroll  \\\n",
       "1      0.0      0.0      17.0       0               10       100.0   \n",
       "2    100.0    100.0     100.0       0                6       100.0   \n",
       "3    100.0    100.0      76.0       0                8       100.0   \n",
       "4     19.0     19.0      19.0       0               10        60.0   \n",
       "5     30.0     18.0      18.0       0               12       100.0   \n",
       "\n",
       "           domain  ajax_reqs  num_events  num_forms  avg_form_fill_s  \\\n",
       "1  www.google.com          6           4          0              0.0   \n",
       "2  www.google.com          6           5          0              0.0   \n",
       "3  www.google.com          6           5          0              0.0   \n",
       "4  www.google.com          5           5          0              0.0   \n",
       "5  www.google.com          6           7          0              0.0   \n",
       "\n",
       "   avg_time2click_ms  \n",
       "1                0.0  \n",
       "2                0.0  \n",
       "3                0.0  \n",
       "4                0.0  \n",
       "5                0.0  "
      ],
      "text/html": "<div>\n<style scoped>\n    .dataframe tbody tr th:only-of-type {\n        vertical-align: middle;\n    }\n\n    .dataframe tbody tr th {\n        vertical-align: top;\n    }\n\n    .dataframe thead th {\n        text-align: right;\n    }\n</style>\n<table border=\"1\" class=\"dataframe\">\n  <thead>\n    <tr style=\"text-align: right;\">\n      <th></th>\n      <th>conv_rate</th>\n      <th>attn_10</th>\n      <th>attn_20</th>\n      <th>attn_30</th>\n      <th>attn_40</th>\n      <th>attn_50</th>\n      <th>attn_60</th>\n      <th>attn_70</th>\n      <th>attn_80</th>\n      <th>attn_90</th>\n      <th>attn_100</th>\n      <th>clicks</th>\n      <th>engaged_seconds</th>\n      <th>max_scroll</th>\n      <th>domain</th>\n      <th>ajax_reqs</th>\n      <th>num_events</th>\n      <th>num_forms</th>\n      <th>avg_form_fill_s</th>\n      <th>avg_time2click_ms</th>\n    </tr>\n  </thead>\n  <tbody>\n    <tr>\n      <th>1</th>\n      <td>0.0</td>\n      <td>49.0</td>\n      <td>17.0</td>\n      <td>0.0</td>\n      <td>17.0</td>\n      <td>0.0</td>\n      <td>17.0</td>\n      <td>17.0</td>\n      <td>0.0</td>\n      <td>0.0</td>\n      <td>17.0</td>\n      <td>0</td>\n      <td>10</td>\n      <td>100.0</td>\n      <td>www.google.com</td>\n      <td>6</td>\n      <td>4</td>\n      <td>0</td>\n      <td>0.0</td>\n      <td>0.0</td>\n    </tr>\n    <tr>\n      <th>2</th>\n      <td>0.0</td>\n      <td>100.0</td>\n      <td>100.0</td>\n      <td>100.0</td>\n      <td>100.0</td>\n      <td>100.0</td>\n      <td>100.0</td>\n      <td>100.0</td>\n      <td>100.0</td>\n      <td>100.0</td>\n      <td>100.0</td>\n      <td>0</td>\n      <td>6</td>\n      <td>100.0</td>\n      <td>www.google.com</td>\n      <td>6</td>\n      <td>5</td>\n      <td>0</td>\n      <td>0.0</td>\n      <td>0.0</td>\n    </tr>\n    <tr>\n      <th>3</th>\n      <td>0.0</td>\n      <td>73.0</td>\n      <td>100.0</td>\n      <td>100.0</td>\n      <td>100.0</td>\n      <td>100.0</td>\n      <td>100.0</td>\n      <td>100.0</td>\n      <td>100.0</td>\n      <td>100.0</td>\n      <td>76.0</td>\n      <td>0</td>\n      <td>8</td>\n      <td>100.0</td>\n      <td>www.google.com</td>\n      <td>6</td>\n      <td>5</td>\n      <td>0</td>\n      <td>0.0</td>\n      <td>0.0</td>\n    </tr>\n    <tr>\n      <th>4</th>\n      <td>0.0</td>\n      <td>39.0</td>\n      <td>81.0</td>\n      <td>81.0</td>\n      <td>81.0</td>\n      <td>81.0</td>\n      <td>100.0</td>\n      <td>19.0</td>\n      <td>19.0</td>\n      <td>19.0</td>\n      <td>19.0</td>\n      <td>0</td>\n      <td>10</td>\n      <td>60.0</td>\n      <td>www.google.com</td>\n      <td>5</td>\n      <td>5</td>\n      <td>0</td>\n      <td>0.0</td>\n      <td>0.0</td>\n    </tr>\n    <tr>\n      <th>5</th>\n      <td>0.0</td>\n      <td>51.0</td>\n      <td>82.0</td>\n      <td>82.0</td>\n      <td>82.0</td>\n      <td>100.0</td>\n      <td>100.0</td>\n      <td>100.0</td>\n      <td>30.0</td>\n      <td>18.0</td>\n      <td>18.0</td>\n      <td>0</td>\n      <td>12</td>\n      <td>100.0</td>\n      <td>www.google.com</td>\n      <td>6</td>\n      <td>7</td>\n      <td>0</td>\n      <td>0.0</td>\n      <td>0.0</td>\n    </tr>\n  </tbody>\n</table>\n</div>"
     },
     "metadata": {},
     "execution_count": 8
    }
   ],
   "source": [
    "subset_df['conv_rate'] = subset_df['conv_rate'].fillna(0)\n",
    "subset_df['avg_form_fill_s'] = subset_df['avg_form_fill_s'].fillna(0)\n",
    "subset_df['avg_time2click_ms'] = subset_df['avg_time2click_ms'].fillna(0)\n",
    "subset_df = subset_df.dropna(subset=['domain'])\n",
    "\n",
    "subset_df.head()"
   ]
  },
  {
   "cell_type": "code",
   "execution_count": 9,
   "metadata": {},
   "outputs": [
    {
     "output_type": "execute_result",
     "data": {
      "text/plain": [
       "(2390851, 20)"
      ]
     },
     "metadata": {},
     "execution_count": 9
    }
   ],
   "source": [
    "subset_df.compute().shape"
   ]
  },
  {
   "cell_type": "code",
   "execution_count": 10,
   "metadata": {},
   "outputs": [
    {
     "output_type": "execute_result",
     "data": {
      "text/plain": [
       "          conv_rate       attn_10       attn_20       attn_30       attn_40  \\\n",
       "count  2.390851e+06  1.058626e+06  1.058626e+06  1.058626e+06  1.058626e+06   \n",
       "mean   7.170889e+03  1.801875e+01  2.093465e+01  2.196413e+01  2.176311e+01   \n",
       "std    2.897048e+04  3.680860e+01  3.944872e+01  4.038649e+01  4.047161e+01   \n",
       "min    0.000000e+00  0.000000e+00  0.000000e+00  0.000000e+00  0.000000e+00   \n",
       "25%    0.000000e+00  0.000000e+00  0.000000e+00  0.000000e+00  0.000000e+00   \n",
       "50%    0.000000e+00  0.000000e+00  0.000000e+00  0.000000e+00  0.000000e+00   \n",
       "75%    0.000000e+00  0.000000e+00  0.000000e+00  0.000000e+00  0.000000e+00   \n",
       "max    3.309960e+05  1.000000e+02  1.000000e+02  1.000000e+02  1.000000e+02   \n",
       "\n",
       "            attn_50       attn_60       attn_70       attn_80       attn_90  \\\n",
       "count  1.058626e+06  1.058626e+06  1.058626e+06  1.058626e+06  1.058626e+06   \n",
       "mean   2.100001e+01  1.998152e+01  1.813691e+01  1.623306e+01  1.447966e+01   \n",
       "std    4.026636e+01  3.942360e+01  3.756423e+01  3.561385e+01  3.373557e+01   \n",
       "min    0.000000e+00  0.000000e+00  0.000000e+00  0.000000e+00  0.000000e+00   \n",
       "25%    0.000000e+00  0.000000e+00  0.000000e+00  0.000000e+00  0.000000e+00   \n",
       "50%    0.000000e+00  0.000000e+00  0.000000e+00  0.000000e+00  0.000000e+00   \n",
       "75%    0.000000e+00  0.000000e+00  0.000000e+00  0.000000e+00  0.000000e+00   \n",
       "max    1.000000e+02  1.000000e+02  1.000000e+02  1.000000e+02  1.000000e+02   \n",
       "\n",
       "           attn_100        clicks  engaged_seconds    max_scroll  \\\n",
       "count  1.058626e+06  2.390851e+06     2.390851e+06  1.058626e+06   \n",
       "mean   1.296102e+01  1.379342e+00     6.932678e+00  8.677628e+01   \n",
       "std    3.203704e+01  4.587478e+00     1.598251e+01  2.084579e+01   \n",
       "min    0.000000e+00  0.000000e+00     0.000000e+00  1.000000e+01   \n",
       "25%    0.000000e+00  0.000000e+00     0.000000e+00  8.000000e+01   \n",
       "50%    0.000000e+00  0.000000e+00     0.000000e+00  1.000000e+02   \n",
       "75%    0.000000e+00  0.000000e+00     7.000000e+00  1.000000e+02   \n",
       "max    1.000000e+02  9.600000e+01     5.940000e+02  1.000000e+02   \n",
       "\n",
       "          ajax_reqs    num_events     num_forms  avg_form_fill_s  \\\n",
       "count  2.390851e+06  2.390851e+06  2.390851e+06     2.390851e+06   \n",
       "mean   1.729937e+00  4.067979e+00  3.357290e-01     1.507442e+00   \n",
       "std    2.260712e+00  2.972473e+00  6.543852e-01     7.636072e+00   \n",
       "min    0.000000e+00  0.000000e+00  0.000000e+00     0.000000e+00   \n",
       "25%    0.000000e+00  2.000000e+00  0.000000e+00     0.000000e+00   \n",
       "50%    1.000000e+00  3.000000e+00  0.000000e+00     0.000000e+00   \n",
       "75%    4.000000e+00  5.000000e+00  1.000000e+00     0.000000e+00   \n",
       "max    2.800000e+01  4.000000e+01  3.000000e+00     5.010000e+02   \n",
       "\n",
       "       avg_time2click_ms  \n",
       "count       2.390851e+06  \n",
       "mean        8.490993e+03  \n",
       "std         1.133739e+04  \n",
       "min         0.000000e+00  \n",
       "25%         3.698000e+03  \n",
       "50%         6.167000e+03  \n",
       "75%         1.027400e+04  \n",
       "max         5.887140e+05  "
      ],
      "text/html": "<div>\n<style scoped>\n    .dataframe tbody tr th:only-of-type {\n        vertical-align: middle;\n    }\n\n    .dataframe tbody tr th {\n        vertical-align: top;\n    }\n\n    .dataframe thead th {\n        text-align: right;\n    }\n</style>\n<table border=\"1\" class=\"dataframe\">\n  <thead>\n    <tr style=\"text-align: right;\">\n      <th></th>\n      <th>conv_rate</th>\n      <th>attn_10</th>\n      <th>attn_20</th>\n      <th>attn_30</th>\n      <th>attn_40</th>\n      <th>attn_50</th>\n      <th>attn_60</th>\n      <th>attn_70</th>\n      <th>attn_80</th>\n      <th>attn_90</th>\n      <th>attn_100</th>\n      <th>clicks</th>\n      <th>engaged_seconds</th>\n      <th>max_scroll</th>\n      <th>ajax_reqs</th>\n      <th>num_events</th>\n      <th>num_forms</th>\n      <th>avg_form_fill_s</th>\n      <th>avg_time2click_ms</th>\n    </tr>\n  </thead>\n  <tbody>\n    <tr>\n      <th>count</th>\n      <td>2.390851e+06</td>\n      <td>1.058626e+06</td>\n      <td>1.058626e+06</td>\n      <td>1.058626e+06</td>\n      <td>1.058626e+06</td>\n      <td>1.058626e+06</td>\n      <td>1.058626e+06</td>\n      <td>1.058626e+06</td>\n      <td>1.058626e+06</td>\n      <td>1.058626e+06</td>\n      <td>1.058626e+06</td>\n      <td>2.390851e+06</td>\n      <td>2.390851e+06</td>\n      <td>1.058626e+06</td>\n      <td>2.390851e+06</td>\n      <td>2.390851e+06</td>\n      <td>2.390851e+06</td>\n      <td>2.390851e+06</td>\n      <td>2.390851e+06</td>\n    </tr>\n    <tr>\n      <th>mean</th>\n      <td>7.170889e+03</td>\n      <td>1.801875e+01</td>\n      <td>2.093465e+01</td>\n      <td>2.196413e+01</td>\n      <td>2.176311e+01</td>\n      <td>2.100001e+01</td>\n      <td>1.998152e+01</td>\n      <td>1.813691e+01</td>\n      <td>1.623306e+01</td>\n      <td>1.447966e+01</td>\n      <td>1.296102e+01</td>\n      <td>1.379342e+00</td>\n      <td>6.932678e+00</td>\n      <td>8.677628e+01</td>\n      <td>1.729937e+00</td>\n      <td>4.067979e+00</td>\n      <td>3.357290e-01</td>\n      <td>1.507442e+00</td>\n      <td>8.490993e+03</td>\n    </tr>\n    <tr>\n      <th>std</th>\n      <td>2.897048e+04</td>\n      <td>3.680860e+01</td>\n      <td>3.944872e+01</td>\n      <td>4.038649e+01</td>\n      <td>4.047161e+01</td>\n      <td>4.026636e+01</td>\n      <td>3.942360e+01</td>\n      <td>3.756423e+01</td>\n      <td>3.561385e+01</td>\n      <td>3.373557e+01</td>\n      <td>3.203704e+01</td>\n      <td>4.587478e+00</td>\n      <td>1.598251e+01</td>\n      <td>2.084579e+01</td>\n      <td>2.260712e+00</td>\n      <td>2.972473e+00</td>\n      <td>6.543852e-01</td>\n      <td>7.636072e+00</td>\n      <td>1.133739e+04</td>\n    </tr>\n    <tr>\n      <th>min</th>\n      <td>0.000000e+00</td>\n      <td>0.000000e+00</td>\n      <td>0.000000e+00</td>\n      <td>0.000000e+00</td>\n      <td>0.000000e+00</td>\n      <td>0.000000e+00</td>\n      <td>0.000000e+00</td>\n      <td>0.000000e+00</td>\n      <td>0.000000e+00</td>\n      <td>0.000000e+00</td>\n      <td>0.000000e+00</td>\n      <td>0.000000e+00</td>\n      <td>0.000000e+00</td>\n      <td>1.000000e+01</td>\n      <td>0.000000e+00</td>\n      <td>0.000000e+00</td>\n      <td>0.000000e+00</td>\n      <td>0.000000e+00</td>\n      <td>0.000000e+00</td>\n    </tr>\n    <tr>\n      <th>25%</th>\n      <td>0.000000e+00</td>\n      <td>0.000000e+00</td>\n      <td>0.000000e+00</td>\n      <td>0.000000e+00</td>\n      <td>0.000000e+00</td>\n      <td>0.000000e+00</td>\n      <td>0.000000e+00</td>\n      <td>0.000000e+00</td>\n      <td>0.000000e+00</td>\n      <td>0.000000e+00</td>\n      <td>0.000000e+00</td>\n      <td>0.000000e+00</td>\n      <td>0.000000e+00</td>\n      <td>8.000000e+01</td>\n      <td>0.000000e+00</td>\n      <td>2.000000e+00</td>\n      <td>0.000000e+00</td>\n      <td>0.000000e+00</td>\n      <td>3.698000e+03</td>\n    </tr>\n    <tr>\n      <th>50%</th>\n      <td>0.000000e+00</td>\n      <td>0.000000e+00</td>\n      <td>0.000000e+00</td>\n      <td>0.000000e+00</td>\n      <td>0.000000e+00</td>\n      <td>0.000000e+00</td>\n      <td>0.000000e+00</td>\n      <td>0.000000e+00</td>\n      <td>0.000000e+00</td>\n      <td>0.000000e+00</td>\n      <td>0.000000e+00</td>\n      <td>0.000000e+00</td>\n      <td>0.000000e+00</td>\n      <td>1.000000e+02</td>\n      <td>1.000000e+00</td>\n      <td>3.000000e+00</td>\n      <td>0.000000e+00</td>\n      <td>0.000000e+00</td>\n      <td>6.167000e+03</td>\n    </tr>\n    <tr>\n      <th>75%</th>\n      <td>0.000000e+00</td>\n      <td>0.000000e+00</td>\n      <td>0.000000e+00</td>\n      <td>0.000000e+00</td>\n      <td>0.000000e+00</td>\n      <td>0.000000e+00</td>\n      <td>0.000000e+00</td>\n      <td>0.000000e+00</td>\n      <td>0.000000e+00</td>\n      <td>0.000000e+00</td>\n      <td>0.000000e+00</td>\n      <td>0.000000e+00</td>\n      <td>7.000000e+00</td>\n      <td>1.000000e+02</td>\n      <td>4.000000e+00</td>\n      <td>5.000000e+00</td>\n      <td>1.000000e+00</td>\n      <td>0.000000e+00</td>\n      <td>1.027400e+04</td>\n    </tr>\n    <tr>\n      <th>max</th>\n      <td>3.309960e+05</td>\n      <td>1.000000e+02</td>\n      <td>1.000000e+02</td>\n      <td>1.000000e+02</td>\n      <td>1.000000e+02</td>\n      <td>1.000000e+02</td>\n      <td>1.000000e+02</td>\n      <td>1.000000e+02</td>\n      <td>1.000000e+02</td>\n      <td>1.000000e+02</td>\n      <td>1.000000e+02</td>\n      <td>9.600000e+01</td>\n      <td>5.940000e+02</td>\n      <td>1.000000e+02</td>\n      <td>2.800000e+01</td>\n      <td>4.000000e+01</td>\n      <td>3.000000e+00</td>\n      <td>5.010000e+02</td>\n      <td>5.887140e+05</td>\n    </tr>\n  </tbody>\n</table>\n</div>"
     },
     "metadata": {},
     "execution_count": 10
    }
   ],
   "source": [
    "subset_df.compute().describe()"
   ]
  },
  {
   "source": [
    "# Encode categorical data with OneHot encodings"
   ],
   "cell_type": "markdown",
   "metadata": {}
  },
  {
   "cell_type": "code",
   "execution_count": 11,
   "metadata": {},
   "outputs": [
    {
     "output_type": "execute_result",
     "data": {
      "text/plain": [
       "   conv_rate  attn_10  attn_20  attn_30  attn_40  attn_50  attn_60  attn_70  \\\n",
       "1        0.0     49.0     17.0      0.0     17.0      0.0     17.0     17.0   \n",
       "2        0.0    100.0    100.0    100.0    100.0    100.0    100.0    100.0   \n",
       "3        0.0     73.0    100.0    100.0    100.0    100.0    100.0    100.0   \n",
       "4        0.0     39.0     81.0     81.0     81.0     81.0    100.0     19.0   \n",
       "5        0.0     51.0     82.0     82.0     82.0    100.0    100.0    100.0   \n",
       "\n",
       "   attn_80  attn_90  ...  (www.google.com,)  (www.live.com,)  \\\n",
       "1      0.0      0.0  ...                1.0              0.0   \n",
       "2    100.0    100.0  ...                1.0              0.0   \n",
       "3    100.0    100.0  ...                1.0              0.0   \n",
       "4     19.0     19.0  ...                1.0              0.0   \n",
       "5     30.0     18.0  ...                1.0              0.0   \n",
       "\n",
       "   (www.quartermanfinancial.com,)  (www.quinnandmurray.com,)  \\\n",
       "1                             0.0                        0.0   \n",
       "2                             0.0                        0.0   \n",
       "3                             0.0                        0.0   \n",
       "4                             0.0                        0.0   \n",
       "5                             0.0                        0.0   \n",
       "\n",
       "   (www.retailmenot.com,)  (www.trafficsafe.net,)  (www.vistaprint.com,)  \\\n",
       "1                     0.0                     0.0                    0.0   \n",
       "2                     0.0                     0.0                    0.0   \n",
       "3                     0.0                     0.0                    0.0   \n",
       "4                     0.0                     0.0                    0.0   \n",
       "5                     0.0                     0.0                    0.0   \n",
       "\n",
       "   (www.vistaprint.ie,)  (www.yahoo.com,)  (www.youtube.com,)  \n",
       "1                   0.0               0.0                 0.0  \n",
       "2                   0.0               0.0                 0.0  \n",
       "3                   0.0               0.0                 0.0  \n",
       "4                   0.0               0.0                 0.0  \n",
       "5                   0.0               0.0                 0.0  \n",
       "\n",
       "[5 rows x 53 columns]"
      ],
      "text/html": "<div>\n<style scoped>\n    .dataframe tbody tr th:only-of-type {\n        vertical-align: middle;\n    }\n\n    .dataframe tbody tr th {\n        vertical-align: top;\n    }\n\n    .dataframe thead th {\n        text-align: right;\n    }\n</style>\n<table border=\"1\" class=\"dataframe\">\n  <thead>\n    <tr style=\"text-align: right;\">\n      <th></th>\n      <th>conv_rate</th>\n      <th>attn_10</th>\n      <th>attn_20</th>\n      <th>attn_30</th>\n      <th>attn_40</th>\n      <th>attn_50</th>\n      <th>attn_60</th>\n      <th>attn_70</th>\n      <th>attn_80</th>\n      <th>attn_90</th>\n      <th>...</th>\n      <th>(www.google.com,)</th>\n      <th>(www.live.com,)</th>\n      <th>(www.quartermanfinancial.com,)</th>\n      <th>(www.quinnandmurray.com,)</th>\n      <th>(www.retailmenot.com,)</th>\n      <th>(www.trafficsafe.net,)</th>\n      <th>(www.vistaprint.com,)</th>\n      <th>(www.vistaprint.ie,)</th>\n      <th>(www.yahoo.com,)</th>\n      <th>(www.youtube.com,)</th>\n    </tr>\n  </thead>\n  <tbody>\n    <tr>\n      <th>1</th>\n      <td>0.0</td>\n      <td>49.0</td>\n      <td>17.0</td>\n      <td>0.0</td>\n      <td>17.0</td>\n      <td>0.0</td>\n      <td>17.0</td>\n      <td>17.0</td>\n      <td>0.0</td>\n      <td>0.0</td>\n      <td>...</td>\n      <td>1.0</td>\n      <td>0.0</td>\n      <td>0.0</td>\n      <td>0.0</td>\n      <td>0.0</td>\n      <td>0.0</td>\n      <td>0.0</td>\n      <td>0.0</td>\n      <td>0.0</td>\n      <td>0.0</td>\n    </tr>\n    <tr>\n      <th>2</th>\n      <td>0.0</td>\n      <td>100.0</td>\n      <td>100.0</td>\n      <td>100.0</td>\n      <td>100.0</td>\n      <td>100.0</td>\n      <td>100.0</td>\n      <td>100.0</td>\n      <td>100.0</td>\n      <td>100.0</td>\n      <td>...</td>\n      <td>1.0</td>\n      <td>0.0</td>\n      <td>0.0</td>\n      <td>0.0</td>\n      <td>0.0</td>\n      <td>0.0</td>\n      <td>0.0</td>\n      <td>0.0</td>\n      <td>0.0</td>\n      <td>0.0</td>\n    </tr>\n    <tr>\n      <th>3</th>\n      <td>0.0</td>\n      <td>73.0</td>\n      <td>100.0</td>\n      <td>100.0</td>\n      <td>100.0</td>\n      <td>100.0</td>\n      <td>100.0</td>\n      <td>100.0</td>\n      <td>100.0</td>\n      <td>100.0</td>\n      <td>...</td>\n      <td>1.0</td>\n      <td>0.0</td>\n      <td>0.0</td>\n      <td>0.0</td>\n      <td>0.0</td>\n      <td>0.0</td>\n      <td>0.0</td>\n      <td>0.0</td>\n      <td>0.0</td>\n      <td>0.0</td>\n    </tr>\n    <tr>\n      <th>4</th>\n      <td>0.0</td>\n      <td>39.0</td>\n      <td>81.0</td>\n      <td>81.0</td>\n      <td>81.0</td>\n      <td>81.0</td>\n      <td>100.0</td>\n      <td>19.0</td>\n      <td>19.0</td>\n      <td>19.0</td>\n      <td>...</td>\n      <td>1.0</td>\n      <td>0.0</td>\n      <td>0.0</td>\n      <td>0.0</td>\n      <td>0.0</td>\n      <td>0.0</td>\n      <td>0.0</td>\n      <td>0.0</td>\n      <td>0.0</td>\n      <td>0.0</td>\n    </tr>\n    <tr>\n      <th>5</th>\n      <td>0.0</td>\n      <td>51.0</td>\n      <td>82.0</td>\n      <td>82.0</td>\n      <td>82.0</td>\n      <td>100.0</td>\n      <td>100.0</td>\n      <td>100.0</td>\n      <td>30.0</td>\n      <td>18.0</td>\n      <td>...</td>\n      <td>1.0</td>\n      <td>0.0</td>\n      <td>0.0</td>\n      <td>0.0</td>\n      <td>0.0</td>\n      <td>0.0</td>\n      <td>0.0</td>\n      <td>0.0</td>\n      <td>0.0</td>\n      <td>0.0</td>\n    </tr>\n  </tbody>\n</table>\n<p>5 rows × 53 columns</p>\n</div>"
     },
     "metadata": {},
     "execution_count": 11
    }
   ],
   "source": [
    "subset_df = helper_fns.perform_one_hot_encoding(subset_df, 'domain')\n",
    "\n",
    "subset_df = subset_df.drop(columns=['domain'])\n",
    "\n",
    "subset_df.head()"
   ]
  },
  {
   "source": [
    "# Save dataset for future, more efficient, model development and analysis"
   ],
   "cell_type": "markdown",
   "metadata": {}
  },
  {
   "cell_type": "code",
   "execution_count": 12,
   "metadata": {},
   "outputs": [],
   "source": [
    "subset_df.compute().to_csv('page_data_v2_cleaned.csv', index=False)"
   ]
  }
 ]
}