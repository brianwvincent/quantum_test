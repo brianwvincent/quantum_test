{
 "metadata": {
  "language_info": {
   "codemirror_mode": {
    "name": "ipython",
    "version": 3
   },
   "file_extension": ".py",
   "mimetype": "text/x-python",
   "name": "python",
   "nbconvert_exporter": "python",
   "pygments_lexer": "ipython3",
   "version": "3.8.8-final"
  },
  "orig_nbformat": 2,
  "kernelspec": {
   "name": "python3",
   "display_name": "Python 3.8.8 64-bit ('quantum_metric_test': pipenv)",
   "metadata": {
    "interpreter": {
     "hash": "f7cb70d9d984bf914d7c2f2bcc10c08a4916bd58bbe37bf63033f57a32091153"
    }
   }
  }
 },
 "nbformat": 4,
 "nbformat_minor": 2,
 "cells": [
  {
   "cell_type": "code",
   "execution_count": 2,
   "metadata": {},
   "outputs": [],
   "source": [
    "import numpy as np\n",
    "import pandas as pd\n",
    "import dask.dataframe as ddf\n",
    "from sklearn.preprocessing import StandardScaler, MinMaxScaler\n",
    "from sklearn.decomposition import PCA, TruncatedSVD\n",
    "from tensorflow.keras.models import Sequential\n",
    "from tensorflow.keras.layers import Dense\n",
    "from tensorflow.keras.optimizers import SGD\n",
    "from tensorflow.keras.callbacks import EarlyStopping"
   ]
  },
  {
   "source": [
    "# Import data"
   ],
   "cell_type": "markdown",
   "metadata": {}
  },
  {
   "cell_type": "code",
   "execution_count": 3,
   "metadata": {},
   "outputs": [
    {
     "output_type": "execute_result",
     "data": {
      "text/plain": [
       "   start_hour  loyal  conv_rate   loyalty  pg_count  hit_evnt_cnt  \\\n",
       "0          23      0  -0.262246 -0.240792 -1.328991     -0.673618   \n",
       "1          23      0  -0.262246 -0.240792 -1.328991     -0.949226   \n",
       "2          23      0  -0.262246 -0.240792 -1.328991     -1.159924   \n",
       "3          23      0  -0.262246 -0.240792 -1.328991     -1.159924   \n",
       "4          23      0  -0.262246 -0.240792 -1.328991     -1.276792   \n",
       "\n",
       "   hit_evnt_clicks  hit_evnt_forms  hit_evnt_ajax  ('BR',)  ...  ('social',)  \\\n",
       "0         -1.28356        -1.31504      -1.315113      0.0  ...          0.0   \n",
       "1         -1.28356        -1.31504      -1.099848      0.0  ...          1.0   \n",
       "2         -1.28356        -1.31504      -1.315113      0.0  ...          0.0   \n",
       "3         -1.28356        -1.31504      -1.559321      0.0  ...          1.0   \n",
       "4         -1.28356        -1.31504      -1.315113      0.0  ...          0.0   \n",
       "\n",
       "   ('ask.com',)  ('baidu.com',)  ('bing.com',)  ('duckduckgo.com',)  \\\n",
       "0           0.0             0.0            0.0                  0.0   \n",
       "1           0.0             0.0            0.0                  0.0   \n",
       "2           0.0             0.0            0.0                  0.0   \n",
       "3           0.0             0.0            0.0                  0.0   \n",
       "4           0.0             1.0            0.0                  0.0   \n",
       "\n",
       "   ('facebook.com',)  ('google.com',)  ('instagram.com',)  ('pinterest.com',)  \\\n",
       "0                0.0              0.0                 0.0                 0.0   \n",
       "1                1.0              0.0                 0.0                 0.0   \n",
       "2                0.0              1.0                 0.0                 0.0   \n",
       "3                0.0              0.0                 0.0                 1.0   \n",
       "4                0.0              0.0                 0.0                 0.0   \n",
       "\n",
       "   ('yahoo.com',)  \n",
       "0             1.0  \n",
       "1             0.0  \n",
       "2             0.0  \n",
       "3             0.0  \n",
       "4             0.0  \n",
       "\n",
       "[5 rows x 73 columns]"
      ],
      "text/html": "<div>\n<style scoped>\n    .dataframe tbody tr th:only-of-type {\n        vertical-align: middle;\n    }\n\n    .dataframe tbody tr th {\n        vertical-align: top;\n    }\n\n    .dataframe thead th {\n        text-align: right;\n    }\n</style>\n<table border=\"1\" class=\"dataframe\">\n  <thead>\n    <tr style=\"text-align: right;\">\n      <th></th>\n      <th>start_hour</th>\n      <th>loyal</th>\n      <th>conv_rate</th>\n      <th>loyalty</th>\n      <th>pg_count</th>\n      <th>hit_evnt_cnt</th>\n      <th>hit_evnt_clicks</th>\n      <th>hit_evnt_forms</th>\n      <th>hit_evnt_ajax</th>\n      <th>('BR',)</th>\n      <th>...</th>\n      <th>('social',)</th>\n      <th>('ask.com',)</th>\n      <th>('baidu.com',)</th>\n      <th>('bing.com',)</th>\n      <th>('duckduckgo.com',)</th>\n      <th>('facebook.com',)</th>\n      <th>('google.com',)</th>\n      <th>('instagram.com',)</th>\n      <th>('pinterest.com',)</th>\n      <th>('yahoo.com',)</th>\n    </tr>\n  </thead>\n  <tbody>\n    <tr>\n      <th>0</th>\n      <td>23</td>\n      <td>0</td>\n      <td>-0.262246</td>\n      <td>-0.240792</td>\n      <td>-1.328991</td>\n      <td>-0.673618</td>\n      <td>-1.28356</td>\n      <td>-1.31504</td>\n      <td>-1.315113</td>\n      <td>0.0</td>\n      <td>...</td>\n      <td>0.0</td>\n      <td>0.0</td>\n      <td>0.0</td>\n      <td>0.0</td>\n      <td>0.0</td>\n      <td>0.0</td>\n      <td>0.0</td>\n      <td>0.0</td>\n      <td>0.0</td>\n      <td>1.0</td>\n    </tr>\n    <tr>\n      <th>1</th>\n      <td>23</td>\n      <td>0</td>\n      <td>-0.262246</td>\n      <td>-0.240792</td>\n      <td>-1.328991</td>\n      <td>-0.949226</td>\n      <td>-1.28356</td>\n      <td>-1.31504</td>\n      <td>-1.099848</td>\n      <td>0.0</td>\n      <td>...</td>\n      <td>1.0</td>\n      <td>0.0</td>\n      <td>0.0</td>\n      <td>0.0</td>\n      <td>0.0</td>\n      <td>1.0</td>\n      <td>0.0</td>\n      <td>0.0</td>\n      <td>0.0</td>\n      <td>0.0</td>\n    </tr>\n    <tr>\n      <th>2</th>\n      <td>23</td>\n      <td>0</td>\n      <td>-0.262246</td>\n      <td>-0.240792</td>\n      <td>-1.328991</td>\n      <td>-1.159924</td>\n      <td>-1.28356</td>\n      <td>-1.31504</td>\n      <td>-1.315113</td>\n      <td>0.0</td>\n      <td>...</td>\n      <td>0.0</td>\n      <td>0.0</td>\n      <td>0.0</td>\n      <td>0.0</td>\n      <td>0.0</td>\n      <td>0.0</td>\n      <td>1.0</td>\n      <td>0.0</td>\n      <td>0.0</td>\n      <td>0.0</td>\n    </tr>\n    <tr>\n      <th>3</th>\n      <td>23</td>\n      <td>0</td>\n      <td>-0.262246</td>\n      <td>-0.240792</td>\n      <td>-1.328991</td>\n      <td>-1.159924</td>\n      <td>-1.28356</td>\n      <td>-1.31504</td>\n      <td>-1.559321</td>\n      <td>0.0</td>\n      <td>...</td>\n      <td>1.0</td>\n      <td>0.0</td>\n      <td>0.0</td>\n      <td>0.0</td>\n      <td>0.0</td>\n      <td>0.0</td>\n      <td>0.0</td>\n      <td>0.0</td>\n      <td>1.0</td>\n      <td>0.0</td>\n    </tr>\n    <tr>\n      <th>4</th>\n      <td>23</td>\n      <td>0</td>\n      <td>-0.262246</td>\n      <td>-0.240792</td>\n      <td>-1.328991</td>\n      <td>-1.276792</td>\n      <td>-1.28356</td>\n      <td>-1.31504</td>\n      <td>-1.315113</td>\n      <td>0.0</td>\n      <td>...</td>\n      <td>0.0</td>\n      <td>0.0</td>\n      <td>1.0</td>\n      <td>0.0</td>\n      <td>0.0</td>\n      <td>0.0</td>\n      <td>0.0</td>\n      <td>0.0</td>\n      <td>0.0</td>\n      <td>0.0</td>\n    </tr>\n  </tbody>\n</table>\n<p>5 rows × 73 columns</p>\n</div>"
     },
     "metadata": {},
     "execution_count": 3
    }
   ],
   "source": [
    "df = ddf.read_csv('session_data_v2_cleaned.csv')\n",
    "df.head()"
   ]
  },
  {
   "cell_type": "code",
   "execution_count": 4,
   "metadata": {},
   "outputs": [
    {
     "output_type": "execute_result",
     "data": {
      "text/plain": [
       "(1435733, 73)"
      ]
     },
     "metadata": {},
     "execution_count": 4
    }
   ],
   "source": [
    "df.compute().shape"
   ]
  },
  {
   "source": [
    "# Dimensionality Reduction and save to file"
   ],
   "cell_type": "markdown",
   "metadata": {}
  },
  {
   "cell_type": "code",
   "execution_count": 33,
   "metadata": {},
   "outputs": [],
   "source": [
    "# data prep\n",
    "X = df.drop(columns=['conv_rate']).compute()\n",
    "X.reset_index(inplace=True, drop=True)\n",
    "y = df[['conv_rate']].compute()\n",
    "y.reset_index(inplace=True, drop=True)\n",
    "X_train, X_test, y_train, y_test = train_test_split(X, y, test_size=0.33, random_state=42)"
   ]
  },
  {
   "source": [
    "## Autoencoder"
   ],
   "cell_type": "markdown",
   "metadata": {}
  },
  {
   "cell_type": "code",
   "execution_count": 10,
   "metadata": {},
   "outputs": [],
   "source": [
    "### Encoder\n",
    "encoder = Sequential()\n",
    "encoder.add(Dense(400,input_shape=[72],activation='relu'))\n",
    "encoder.add(Dense(200,activation=\"relu\"))\n",
    "encoder.add(Dense(100,activation=\"relu\"))\n",
    "encoder.add(Dense(50,activation=\"relu\"))\n",
    "encoder.add(Dense(6,activation=\"relu\"))\n",
    " \n",
    " \n",
    "### Decoder\n",
    "decoder = Sequential()\n",
    "decoder.add(Dense(50,input_shape=[6],activation='relu'))\n",
    "decoder.add(Dense(100,activation='relu'))\n",
    "decoder.add(Dense(200,activation='relu'))\n",
    "decoder.add(Dense(400,activation='relu'))\n",
    "decoder.add(Dense(72, activation=\"relu\"))\n",
    "\n",
    "\n"
   ]
  },
  {
   "cell_type": "code",
   "execution_count": 13,
   "metadata": {},
   "outputs": [],
   "source": [
    "# autoencoder data prep\n",
    "X_train, X_test, y_train, y_test = train_test_split(df.drop(columns=['conv_rate']).compute(), df[['conv_rate']].compute(), test_size=0.33, random_state=42)"
   ]
  },
  {
   "cell_type": "code",
   "execution_count": 14,
   "metadata": {},
   "outputs": [
    {
     "output_type": "stream",
     "name": "stdout",
     "text": [
      "Epoch 1/50\n",
      "30061/30061 [==============================] - 37s 1ms/step - loss: 0.0964\n",
      "Epoch 2/50\n",
      "30061/30061 [==============================] - 36s 1ms/step - loss: 0.0606\n",
      "Epoch 3/50\n",
      "30061/30061 [==============================] - 35s 1ms/step - loss: 0.0592\n",
      "Epoch 4/50\n",
      "30061/30061 [==============================] - 35s 1ms/step - loss: 0.0590\n",
      "Epoch 5/50\n",
      "30061/30061 [==============================] - 35s 1ms/step - loss: 0.0585\n",
      "Epoch 6/50\n",
      "30061/30061 [==============================] - 35s 1ms/step - loss: 0.0579\n",
      "Epoch 7/50\n",
      "30061/30061 [==============================] - 35s 1ms/step - loss: 0.0580\n",
      "Epoch 8/50\n",
      "30061/30061 [==============================] - 35s 1ms/step - loss: 0.0581\n",
      "Epoch 9/50\n",
      "30061/30061 [==============================] - 36s 1ms/step - loss: 0.0579\n",
      "Epoch 10/50\n",
      "30061/30061 [==============================] - 37s 1ms/step - loss: 0.0578\n",
      "Epoch 11/50\n",
      "30061/30061 [==============================] - 37s 1ms/step - loss: 0.0578\n",
      "Epoch 12/50\n",
      "30061/30061 [==============================] - 37s 1ms/step - loss: 0.0576\n",
      "Epoch 13/50\n",
      "30061/30061 [==============================] - 38s 1ms/step - loss: 0.0576\n",
      "Epoch 14/50\n",
      "30061/30061 [==============================] - 37s 1ms/step - loss: 0.0578\n",
      "Epoch 15/50\n",
      "30061/30061 [==============================] - 36s 1ms/step - loss: 0.0577\n"
     ]
    },
    {
     "output_type": "execute_result",
     "data": {
      "text/plain": [
       "<tensorflow.python.keras.callbacks.History at 0x1c36ec292b0>"
      ]
     },
     "metadata": {},
     "execution_count": 14
    }
   ],
   "source": [
    "### Autoencoder\n",
    "callback = EarlyStopping(monitor='loss', patience=3)\n",
    "\n",
    "autoencoder = Sequential([encoder,decoder])\n",
    "autoencoder.compile(loss=\"mse\")\n",
    "autoencoder.fit(X_train,X_train,epochs=50, use_multiprocessing=True, callbacks=[callback])"
   ]
  },
  {
   "cell_type": "code",
   "execution_count": 15,
   "metadata": {},
   "outputs": [
    {
     "output_type": "execute_result",
     "data": {
      "text/plain": [
       "   conv_rate   X1         X2   X3         X4         X5        X6\n",
       "0  -0.262246  0.0   8.757374  0.0  13.296490  11.232584  0.714490\n",
       "1  -0.262246  0.0   5.009789  0.0  14.405546   3.484223  1.160330\n",
       "2  -0.262246  0.0  10.031455  0.0  12.960207   9.013577  0.552835\n",
       "3  -0.262246  0.0   5.331458  0.0  13.109734  12.018019  0.537757\n",
       "4  -0.262246  0.0   8.857171  0.0  13.320195  11.315697  0.759686"
      ],
      "text/html": "<div>\n<style scoped>\n    .dataframe tbody tr th:only-of-type {\n        vertical-align: middle;\n    }\n\n    .dataframe tbody tr th {\n        vertical-align: top;\n    }\n\n    .dataframe thead th {\n        text-align: right;\n    }\n</style>\n<table border=\"1\" class=\"dataframe\">\n  <thead>\n    <tr style=\"text-align: right;\">\n      <th></th>\n      <th>conv_rate</th>\n      <th>X1</th>\n      <th>X2</th>\n      <th>X3</th>\n      <th>X4</th>\n      <th>X5</th>\n      <th>X6</th>\n    </tr>\n  </thead>\n  <tbody>\n    <tr>\n      <th>0</th>\n      <td>-0.262246</td>\n      <td>0.0</td>\n      <td>8.757374</td>\n      <td>0.0</td>\n      <td>13.296490</td>\n      <td>11.232584</td>\n      <td>0.714490</td>\n    </tr>\n    <tr>\n      <th>1</th>\n      <td>-0.262246</td>\n      <td>0.0</td>\n      <td>5.009789</td>\n      <td>0.0</td>\n      <td>14.405546</td>\n      <td>3.484223</td>\n      <td>1.160330</td>\n    </tr>\n    <tr>\n      <th>2</th>\n      <td>-0.262246</td>\n      <td>0.0</td>\n      <td>10.031455</td>\n      <td>0.0</td>\n      <td>12.960207</td>\n      <td>9.013577</td>\n      <td>0.552835</td>\n    </tr>\n    <tr>\n      <th>3</th>\n      <td>-0.262246</td>\n      <td>0.0</td>\n      <td>5.331458</td>\n      <td>0.0</td>\n      <td>13.109734</td>\n      <td>12.018019</td>\n      <td>0.537757</td>\n    </tr>\n    <tr>\n      <th>4</th>\n      <td>-0.262246</td>\n      <td>0.0</td>\n      <td>8.857171</td>\n      <td>0.0</td>\n      <td>13.320195</td>\n      <td>11.315697</td>\n      <td>0.759686</td>\n    </tr>\n  </tbody>\n</table>\n</div>"
     },
     "metadata": {},
     "execution_count": 15
    }
   ],
   "source": [
    "# encoding features with autoencoder\n",
    "encoded_matrix = encoder.predict(df.drop(columns=['conv_rate']).compute())\n",
    "encoded_matrix = pd.DataFrame(encoded_matrix, columns=['X1', 'X2', 'X3', 'X4', 'X5', 'X6'])\n",
    "encoded_matrix.reset_index(inplace=True, drop=True)\n",
    "\n",
    "# joining encoded values with conversion value column\n",
    "enc_data_df = df[['conv_rate']].compute()\n",
    "enc_data_df.reset_index(inplace=True, drop=True)\n",
    "\n",
    "encoded_df = enc_data_df.join(encoded_matrix)\n",
    "encoded_df.head()\n"
   ]
  },
  {
   "cell_type": "code",
   "execution_count": 17,
   "metadata": {},
   "outputs": [],
   "source": [
    "# save dataset for further analysis\n",
    "encoded_df.to_csv('session_data_v2_dimReduced_encoder.csv', index=False)"
   ]
  },
  {
   "source": [
    "## Principal Component Analysis (PCA)"
   ],
   "cell_type": "markdown",
   "metadata": {}
  },
  {
   "cell_type": "code",
   "execution_count": 5,
   "metadata": {},
   "outputs": [
    {
     "output_type": "stream",
     "name": "stdout",
     "text": [
      "[0.85335986 0.08492612 0.01830819 0.01234757 0.00765395 0.00331715]\nsum total explained variance: 0.979912839784961\n[8226.04131315 2595.04820692 1204.89011971  989.49930283  779.05402657\n  512.86998687]\n"
     ]
    },
    {
     "output_type": "execute_result",
     "data": {
      "text/plain": [
       "   conv_rate        pc1       pc2       pc3       pc4       pc5       pc6\n",
       "0  -0.262246 -10.944264 -2.470250  0.023180 -0.545362  0.813634  0.331955\n",
       "1  -0.262246 -10.944993 -2.495109  0.019695  0.857042 -0.572363  0.102365\n",
       "2  -0.262246 -10.948251 -2.689478  0.064897 -0.883097  0.231646 -0.465039\n",
       "3  -0.262246 -10.949970 -2.793037  0.084172  0.817486  0.815207  0.061924\n",
       "4  -0.262246 -10.949264 -2.739417  0.073640 -0.548368  0.814916  0.341104"
      ],
      "text/html": "<div>\n<style scoped>\n    .dataframe tbody tr th:only-of-type {\n        vertical-align: middle;\n    }\n\n    .dataframe tbody tr th {\n        vertical-align: top;\n    }\n\n    .dataframe thead th {\n        text-align: right;\n    }\n</style>\n<table border=\"1\" class=\"dataframe\">\n  <thead>\n    <tr style=\"text-align: right;\">\n      <th></th>\n      <th>conv_rate</th>\n      <th>pc1</th>\n      <th>pc2</th>\n      <th>pc3</th>\n      <th>pc4</th>\n      <th>pc5</th>\n      <th>pc6</th>\n    </tr>\n  </thead>\n  <tbody>\n    <tr>\n      <th>0</th>\n      <td>-0.262246</td>\n      <td>-10.944264</td>\n      <td>-2.470250</td>\n      <td>0.023180</td>\n      <td>-0.545362</td>\n      <td>0.813634</td>\n      <td>0.331955</td>\n    </tr>\n    <tr>\n      <th>1</th>\n      <td>-0.262246</td>\n      <td>-10.944993</td>\n      <td>-2.495109</td>\n      <td>0.019695</td>\n      <td>0.857042</td>\n      <td>-0.572363</td>\n      <td>0.102365</td>\n    </tr>\n    <tr>\n      <th>2</th>\n      <td>-0.262246</td>\n      <td>-10.948251</td>\n      <td>-2.689478</td>\n      <td>0.064897</td>\n      <td>-0.883097</td>\n      <td>0.231646</td>\n      <td>-0.465039</td>\n    </tr>\n    <tr>\n      <th>3</th>\n      <td>-0.262246</td>\n      <td>-10.949970</td>\n      <td>-2.793037</td>\n      <td>0.084172</td>\n      <td>0.817486</td>\n      <td>0.815207</td>\n      <td>0.061924</td>\n    </tr>\n    <tr>\n      <th>4</th>\n      <td>-0.262246</td>\n      <td>-10.949264</td>\n      <td>-2.739417</td>\n      <td>0.073640</td>\n      <td>-0.548368</td>\n      <td>0.814916</td>\n      <td>0.341104</td>\n    </tr>\n  </tbody>\n</table>\n</div>"
     },
     "metadata": {},
     "execution_count": 5
    }
   ],
   "source": [
    "pca = PCA(n_components=6)\n",
    "pca_reduced_data = pca.fit_transform(df.drop(columns=['conv_rate']))\n",
    "\n",
    "print(pca.explained_variance_ratio_)\n",
    "print('sum total explained variance: {}'.format(sum(pca.explained_variance_ratio_)))\n",
    "print(pca.singular_values_)\n",
    "\n",
    "conv_df = df[['conv_rate']]\n",
    "reduced_df = pd.DataFrame(pca_reduced_data, columns=['pc1', 'pc2', 'pc3', 'pc4', 'pc5', 'pc6'])\n",
    "pca_df = conv_df.join(reduced_df)\n",
    "pca_df.head()"
   ]
  },
  {
   "cell_type": "code",
   "execution_count": 7,
   "metadata": {},
   "outputs": [],
   "source": [
    "# save dataset for easier future analysis\n",
    "pca_df.compute().to_csv('session_data_v2_dimReduced_pca.csv', index=False)"
   ]
  },
  {
   "source": [
    "## Truncated SVD"
   ],
   "cell_type": "markdown",
   "metadata": {}
  },
  {
   "cell_type": "code",
   "execution_count": 8,
   "metadata": {},
   "outputs": [
    {
     "output_type": "stream",
     "name": "stdout",
     "text": [
      "[0.84346215 0.08507563 0.01830838 0.01122738 0.01190403 0.00713819]\nsum total explained variance: 0.9771157468386472\n[16764.0576891   2598.14018948  1204.94457438  1048.93916029\n   982.29921819   757.69539531]\n"
     ]
    },
    {
     "output_type": "execute_result",
     "data": {
      "text/plain": [
       "   conv_rate        sv1       sv2       sv3       sv4       sv5       sv6\n",
       "0  -0.262246  23.053715 -2.585653  0.040374 -0.683031 -0.815175  0.643175\n",
       "1  -0.262246  23.068722 -2.607612  0.034357 -0.764778  0.678262 -0.644648\n",
       "2  -0.262246  23.057267 -2.804253  0.080387 -0.475019 -1.086974  0.042169\n",
       "3  -0.262246  23.054243 -2.908769  0.103166 -1.097773  0.483560  0.696880\n",
       "4  -0.262246  23.055073 -2.854825  0.090708 -0.677020 -0.816610  0.645025"
      ],
      "text/html": "<div>\n<style scoped>\n    .dataframe tbody tr th:only-of-type {\n        vertical-align: middle;\n    }\n\n    .dataframe tbody tr th {\n        vertical-align: top;\n    }\n\n    .dataframe thead th {\n        text-align: right;\n    }\n</style>\n<table border=\"1\" class=\"dataframe\">\n  <thead>\n    <tr style=\"text-align: right;\">\n      <th></th>\n      <th>conv_rate</th>\n      <th>sv1</th>\n      <th>sv2</th>\n      <th>sv3</th>\n      <th>sv4</th>\n      <th>sv5</th>\n      <th>sv6</th>\n    </tr>\n  </thead>\n  <tbody>\n    <tr>\n      <th>0</th>\n      <td>-0.262246</td>\n      <td>23.053715</td>\n      <td>-2.585653</td>\n      <td>0.040374</td>\n      <td>-0.683031</td>\n      <td>-0.815175</td>\n      <td>0.643175</td>\n    </tr>\n    <tr>\n      <th>1</th>\n      <td>-0.262246</td>\n      <td>23.068722</td>\n      <td>-2.607612</td>\n      <td>0.034357</td>\n      <td>-0.764778</td>\n      <td>0.678262</td>\n      <td>-0.644648</td>\n    </tr>\n    <tr>\n      <th>2</th>\n      <td>-0.262246</td>\n      <td>23.057267</td>\n      <td>-2.804253</td>\n      <td>0.080387</td>\n      <td>-0.475019</td>\n      <td>-1.086974</td>\n      <td>0.042169</td>\n    </tr>\n    <tr>\n      <th>3</th>\n      <td>-0.262246</td>\n      <td>23.054243</td>\n      <td>-2.908769</td>\n      <td>0.103166</td>\n      <td>-1.097773</td>\n      <td>0.483560</td>\n      <td>0.696880</td>\n    </tr>\n    <tr>\n      <th>4</th>\n      <td>-0.262246</td>\n      <td>23.055073</td>\n      <td>-2.854825</td>\n      <td>0.090708</td>\n      <td>-0.677020</td>\n      <td>-0.816610</td>\n      <td>0.645025</td>\n    </tr>\n  </tbody>\n</table>\n</div>"
     },
     "metadata": {},
     "execution_count": 8
    }
   ],
   "source": [
    "tsvd = TruncatedSVD(n_components=6)\n",
    "tsvd_reduced_data = tsvd.fit_transform(df.drop(columns=['conv_rate']))\n",
    "\n",
    "print(tsvd.explained_variance_ratio_)\n",
    "print('sum total explained variance: {}'.format(sum(tsvd.explained_variance_ratio_)))\n",
    "print(tsvd.singular_values_)\n",
    "\n",
    "conv_df = df[['conv_rate']]\n",
    "tsvd_reduced_df = pd.DataFrame(tsvd_reduced_data, columns=['sv1', 'sv2', 'sv3', 'sv4', 'sv5', 'sv6'])\n",
    "tsvd_df = conv_df.join(tsvd_reduced_df)\n",
    "tsvd_df.head()"
   ]
  },
  {
   "cell_type": "code",
   "execution_count": 9,
   "metadata": {},
   "outputs": [],
   "source": [
    "# save dataset for further analysis\n",
    "tsvd_df.compute().to_csv('session_data_v2_dimReduced_tsvd.csv', index=False)"
   ]
  }
 ]
}